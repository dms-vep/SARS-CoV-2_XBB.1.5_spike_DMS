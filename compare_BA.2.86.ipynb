{
 "cells": [
  {
   "cell_type": "markdown",
   "id": "640c4109-dc83-44cd-918a-bfaa1fdd7f1c",
   "metadata": {},
   "source": [
    "# Test how various models score the phenotypes of BA.2.86 and its subsequent descendants"
   ]
  },
  {
   "cell_type": "code",
   "execution_count": 1,
   "id": "174151fe-2199-4676-9562-14da5cc8d5ff",
   "metadata": {
    "editable": true,
    "execution": {
     "iopub.execute_input": "2024-03-04T12:23:55.626243Z",
     "iopub.status.busy": "2024-03-04T12:23:55.625674Z",
     "iopub.status.idle": "2024-03-04T12:23:55.642376Z",
     "shell.execute_reply": "2024-03-04T12:23:55.640711Z",
     "shell.execute_reply.started": "2024-03-04T12:23:55.626203Z"
    },
    "slideshow": {
     "slide_type": ""
    },
    "tags": [
     "parameters"
    ]
   },
   "outputs": [],
   "source": [
    "# This cell is tagged as `parameters` for `papermill` parameterization\n",
    "clade_phenotypes_csv = \"SARS2-spike-predictor-phenos/results/clade_phenotypes.csv\"\n",
    "mutation_phenotypes_csv = \"SARS2-spike-predictor-phenos/results/mutation_phenotypes.csv\"\n",
    "gisaid_mutation_counts_csv = \"data/GISAID_alignment_counts_2024-01-27.csv\"\n",
    "gisaid_min_counts = 50\n",
    "nrandom = 100"
   ]
  },
  {
   "cell_type": "markdown",
   "id": "7a185c5e-589f-4b98-bc36-a3b783508d08",
   "metadata": {
    "editable": true,
    "slideshow": {
     "slide_type": ""
    },
    "tags": []
   },
   "source": [
    "Import Python modules:"
   ]
  },
  {
   "cell_type": "code",
   "execution_count": 2,
   "id": "57ddcdce-093f-436f-8573-15222a631311",
   "metadata": {
    "editable": true,
    "execution": {
     "iopub.execute_input": "2024-03-04T12:23:55.653597Z",
     "iopub.status.busy": "2024-03-04T12:23:55.653229Z",
     "iopub.status.idle": "2024-03-04T12:23:57.562959Z",
     "shell.execute_reply": "2024-03-04T12:23:57.562010Z",
     "shell.execute_reply.started": "2024-03-04T12:23:55.653558Z"
    },
    "slideshow": {
     "slide_type": ""
    },
    "tags": []
   },
   "outputs": [],
   "source": [
    "import random\n",
    "\n",
    "import altair as alt\n",
    "\n",
    "import pandas as pd"
   ]
  },
  {
   "cell_type": "markdown",
   "id": "e5ea0c9c-5dbe-4331-af70-3f26ab95a165",
   "metadata": {
    "editable": true,
    "slideshow": {
     "slide_type": ""
    },
    "tags": []
   },
   "source": [
    "Read the clade phenotypes and get the mutations of each clade relative to its parent.\n",
    "We only analyze BA.2.86 and descendant clades with at least one spike mutation relative to their parent:"
   ]
  },
  {
   "cell_type": "code",
   "execution_count": 3,
   "id": "62683ee4-d706-4061-9ead-98c1507c9cd2",
   "metadata": {
    "editable": true,
    "execution": {
     "iopub.execute_input": "2024-03-04T12:23:57.568920Z",
     "iopub.status.busy": "2024-03-04T12:23:57.567878Z",
     "iopub.status.idle": "2024-03-04T12:23:57.678779Z",
     "shell.execute_reply": "2024-03-04T12:23:57.677917Z",
     "shell.execute_reply.started": "2024-03-04T12:23:57.568838Z"
    },
    "slideshow": {
     "slide_type": ""
    },
    "tags": []
   },
   "outputs": [],
   "source": [
    "def relative_mutations(muts, reference_muts):\n",
    "    \"\"\"Get mutation in `muts` relative `reference_muts`.\"\"\"\n",
    "    if pd.isnull(muts):\n",
    "        muts = []\n",
    "    else:\n",
    "        muts = [(m[0], int(m[1: -1]), m[-1]) for m in muts.split()]\n",
    "    if pd.isnull(reference_muts):\n",
    "        reference_muts = []\n",
    "    else:\n",
    "        reference_muts = [(m[0], int(m[1: -1]), m[-1]) for m in reference_muts.split()]        \n",
    "    shared_muts = set(muts).intersection(reference_muts)\n",
    "    sites = {\n",
    "        r: (wt, m) for (wt, r, m) in [tup for tup in muts if tup not in shared_muts]\n",
    "    }\n",
    "    reference_sites = {\n",
    "        r: (wt, m) for (wt, r, m) in [tup for tup in reference_muts if tup not in shared_muts]\n",
    "    }\n",
    "    muts = []\n",
    "    for r, (wt, m) in sites.items():\n",
    "        if r in reference_sites:\n",
    "            assert wt == reference_sites[r][0]\n",
    "            muts.append((r, reference_sites[r][1], m))\n",
    "        else:\n",
    "            muts.append((r, wt, m))\n",
    "    for r, (wt, m) in reference_sites.items():\n",
    "        if r in sites:\n",
    "            assert wt == sites[r][0]\n",
    "            pass  # already counted\n",
    "        else:\n",
    "            muts.append((r, m, wt))\n",
    "    return [(wt, r, m) for (r, wt, m) in sorted(muts)]\n",
    "\n",
    "clade_phenotypes = (\n",
    "    pd.read_csv(clade_phenotypes_csv)\n",
    "    [\n",
    "        [\"clade\", \"parent\", \"date\", \"spike muts from Wuhan-Hu-1\", \"descendant of BA.2.86\"]\n",
    "    ]\n",
    ")\n",
    "\n",
    "ba_2_86_spike_muts_from_wuhan_hu_1 = clade_phenotypes.set_index(\"clade\").at[\n",
    "    \"BA.2.86\", \"spike muts from Wuhan-Hu-1\"\n",
    "]\n",
    "\n",
    "ba_2_spike_muts_from_wuhan_hu_1 = clade_phenotypes.set_index(\"clade\").at[\n",
    "    \"BA.2\", \"spike muts from Wuhan-Hu-1\"\n",
    "]\n",
    "\n",
    "clade_phenotypes = (\n",
    "    clade_phenotypes\n",
    "    .query(\"(clade == 'BA.2.86') or `descendant of BA.2.86`\")\n",
    "    .merge(\n",
    "        clade_phenotypes\n",
    "        [[\"clade\", \"spike muts from Wuhan-Hu-1\"]]\n",
    "        .rename(\n",
    "            columns={\n",
    "                \"clade\": \"parent\",\n",
    "                \"spike muts from Wuhan-Hu-1\": \"parent spike muts from Wuhan-Hu-1\",\n",
    "            }\n",
    "        ),\n",
    "        on=\"parent\",\n",
    "        validate=\"many_to_one\",\n",
    "        how=\"left\",\n",
    "    )\n",
    "    .assign(\n",
    "        spike_muts_from_parent=lambda x: x.apply(\n",
    "            lambda row: relative_mutations(\n",
    "                row[\"spike muts from Wuhan-Hu-1\"],\n",
    "                row[\"parent spike muts from Wuhan-Hu-1\"],\n",
    "            ),\n",
    "            axis=1,\n",
    "        ),\n",
    "        spike_muts_from_ba_2_86=lambda x: x.apply(\n",
    "            lambda row: relative_mutations(\n",
    "                row[\"spike muts from Wuhan-Hu-1\"],\n",
    "                ba_2_86_spike_muts_from_wuhan_hu_1,\n",
    "            ),\n",
    "            axis=1,\n",
    "        ),            \n",
    "        has_spike_muts_from_parent=lambda x: x[\"spike_muts_from_parent\"].map(lambda ms: len(ms) > 0),\n",
    "    )\n",
    "    .query(\"has_spike_muts_from_parent\")\n",
    "    .drop(columns=[\"spike muts from Wuhan-Hu-1\", \"parent spike muts from Wuhan-Hu-1\", \"has_spike_muts_from_parent\"])\n",
    ")"
   ]
  },
  {
   "cell_type": "markdown",
   "id": "fc6c18f2-bbab-4278-af36-3b82eaf84ff7",
   "metadata": {},
   "source": [
    "Get all amino acids at each site observed at least a threshold number of times in GISAID sequences as well as the \"wildtype\" amino acid at each site.\n",
    "We will randomize from these amino acids:"
   ]
  },
  {
   "cell_type": "code",
   "execution_count": 4,
   "id": "3c1302cd-8c9b-4e21-85e4-e60406a16f25",
   "metadata": {
    "execution": {
     "iopub.execute_input": "2024-03-04T12:23:57.683386Z",
     "iopub.status.busy": "2024-03-04T12:23:57.683113Z",
     "iopub.status.idle": "2024-03-04T12:23:57.929157Z",
     "shell.execute_reply": "2024-03-04T12:23:57.928382Z",
     "shell.execute_reply.started": "2024-03-04T12:23:57.683353Z"
    }
   },
   "outputs": [
    {
     "name": "stdout",
     "output_type": "stream",
     "text": [
      "Retained 6605 natural mutations to randomize among\n"
     ]
    }
   ],
   "source": [
    "gisaid_mutation_counts = pd.read_csv(gisaid_mutation_counts_csv)\n",
    "\n",
    "n_wts = (\n",
    "    pd.read_csv(gisaid_mutation_counts_csv)\n",
    "    .groupby(\"site\")\n",
    "    .aggregate(\n",
    "        wildtypes=pd.NamedAgg(\"wildtype\", \"unique\"),\n",
    "        n_wildtypes=pd.NamedAgg(\"wildtype\", \"nunique\"),\n",
    "    )\n",
    ")\n",
    "if any(n_wts[\"n_wildtypes\"]) != 1:\n",
    "    raise ValueError(f\"multiple wildtypes for some sites:\\n{n_wts.query('n_wildtypes != 1')}\")\n",
    "\n",
    "\n",
    "site_wts = gisaid_mutation_counts.set_index(\"site\")[\"wildtype\"].to_dict()\n",
    "    \n",
    "gisaid_mutation_counts = (\n",
    "    gisaid_mutation_counts\n",
    "    .assign(meets_threshold=lambda x: x[\"count\"] >= gisaid_min_counts)\n",
    "    .query(\"meets_threshold\")\n",
    ")\n",
    "\n",
    "gisaid_muts = list(\n",
    "    set(\n",
    "        gisaid_mutation_counts[[\"wildtype\", \"site\", \"mutant\"]].itertuples(index=False, name=None)\n",
    "    )\n",
    ")\n",
    "\n",
    "print(f\"Retained {len(gisaid_muts)} natural mutations to randomize among\")"
   ]
  },
  {
   "cell_type": "markdown",
   "id": "3061c17b-91a9-47ed-b1da-8e17c78b93bc",
   "metadata": {},
   "source": [
    "Now get the GISAID mutations relative to BA.2 and BA.2.86, which are the \"parents\" for our analyses below:"
   ]
  },
  {
   "cell_type": "code",
   "execution_count": 5,
   "id": "89cebf23-1bef-40cc-9ffe-60c82305d13c",
   "metadata": {
    "execution": {
     "iopub.execute_input": "2024-03-04T12:23:57.933363Z",
     "iopub.status.busy": "2024-03-04T12:23:57.933125Z",
     "iopub.status.idle": "2024-03-04T12:23:57.953898Z",
     "shell.execute_reply": "2024-03-04T12:23:57.953187Z",
     "shell.execute_reply.started": "2024-03-04T12:23:57.933335Z"
    }
   },
   "outputs": [],
   "source": [
    "gisaid_muts_relative_to = {}\n",
    "for clade, clade_muts in [\n",
    "    (\"BA.2\", ba_2_spike_muts_from_wuhan_hu_1),\n",
    "    (\"BA.2.86\", ba_2_86_spike_muts_from_wuhan_hu_1),\n",
    "]:\n",
    "    clade_muts = {int(m[1: -1]): (m[0], m[-1]) for m in clade_muts.split()}\n",
    "    gisaid_muts_relative_to[clade] = []\n",
    "    for wt, r, m in gisaid_muts:\n",
    "        if r in clade_muts:\n",
    "            assert wt == clade_muts[r][0]\n",
    "            if m == clade_muts[r][1]:\n",
    "                gisaid_muts_relative_to[clade].append((clade_muts[r][1], r, wt))\n",
    "            else:\n",
    "                gisaid_muts_relative_to[clade].append((clade_muts[r][1], r, m))\n",
    "        else:\n",
    "            gisaid_muts_relative_to[clade].append((wt, r, m))"
   ]
  },
  {
   "cell_type": "markdown",
   "id": "7452e533-86e8-4618-bd96-4cf46331460c",
   "metadata": {
    "editable": true,
    "execution": {
     "iopub.execute_input": "2024-03-02T14:24:00.544059Z",
     "iopub.status.busy": "2024-03-02T14:24:00.543449Z",
     "iopub.status.idle": "2024-03-02T14:24:00.556115Z",
     "shell.execute_reply": "2024-03-02T14:24:00.554813Z",
     "shell.execute_reply.started": "2024-03-02T14:24:00.544000Z"
    },
    "slideshow": {
     "slide_type": ""
    },
    "tags": []
   },
   "source": [
    "Now get phenotype changes of each clade:"
   ]
  },
  {
   "cell_type": "code",
   "execution_count": 6,
   "id": "4ca2102f-a5ea-4fad-b7da-1fad33a82629",
   "metadata": {
    "editable": true,
    "execution": {
     "iopub.execute_input": "2024-03-04T12:23:57.957641Z",
     "iopub.status.busy": "2024-03-04T12:23:57.957279Z",
     "iopub.status.idle": "2024-03-04T12:24:02.732990Z",
     "shell.execute_reply": "2024-03-04T12:24:02.731957Z",
     "shell.execute_reply.started": "2024-03-04T12:23:57.957598Z"
    },
    "slideshow": {
     "slide_type": ""
    },
    "tags": []
   },
   "outputs": [],
   "source": [
    "mutation_phenotypes = pd.read_csv(mutation_phenotypes_csv)\n",
    "assert (mutation_phenotypes[\"ref_clade\"] == \"XBB.1.5\").all()\n",
    "\n",
    "class PhenotypeAssigner:\n",
    "    \"\"\"Assign phenotypes to sets of mutations.\n",
    "\n",
    "    Parameters\n",
    "    ----------\n",
    "    mutation_phenotypes_df : pandas.DataFrame\n",
    "        Should have columns `site`, `wildtype`, `mutant`, `mutation_effect`.\n",
    "        \n",
    "    \"\"\"\n",
    "    def __init__(self, mutation_phenotypes_df):\n",
    "        assert len(mutation_phenotypes_df) == len(\n",
    "            mutation_phenotypes_df[[\"site\", \"mutant\"]].drop_duplicates()\n",
    "        )\n",
    "        self.sites = sorted(set(mutation_phenotypes_df[\"site\"]))\n",
    "        assert len(self.sites) == len(\n",
    "            mutation_phenotypes_df[[\"site\", \"wildtype\"]].drop_duplicates()\n",
    "        )\n",
    "        self.wts = mutation_phenotypes_df.set_index(\"site\")[\"wildtype\"].to_dict()\n",
    "        self.effects = {\n",
    "            site: site_df.set_index(\"mutant\")[\"mutation_effect\"].to_dict()\n",
    "            for site, site_df in mutation_phenotypes_df.groupby(\"site\")\n",
    "        }\n",
    "        for site, wt in self.wts.items():\n",
    "            assert wt not in self.effects[site]\n",
    "            self.effects[site][wt] = 0.0\n",
    "\n",
    "    def phenotype(self, muts):\n",
    "        \"\"\"Returns phenotype for list of `muts` as `(wildtype, site, mutant)`.\"\"\"\n",
    "        pheno = 0.0\n",
    "        for wt, site, m in muts:\n",
    "            if (site in self.effects) and (wt in self.effects[site]) and (m in self.effects[site]):\n",
    "                pheno += self.effects[site][m] - self.effects[site][wt]\n",
    "        return pheno\n",
    "\n",
    "pheno_changes_df = []\n",
    "for clade_set, df, mut_col, randomize_muts in [\n",
    "    (\n",
    "        \"BA.2.86 relative to BA.2\",\n",
    "        clade_phenotypes.query(\"clade == 'BA.2.86'\"),\n",
    "        \"spike_muts_from_parent\",\n",
    "        gisaid_muts_relative_to[\"BA.2\"],\n",
    "    ),\n",
    "    (\n",
    "        \"BA.2.86-descended clades with new spike mutations relative to BA.2\",\n",
    "        clade_phenotypes[clade_phenotypes[\"descendant of BA.2.86\"]],\n",
    "        \"spike_muts_from_ba_2_86\",\n",
    "        gisaid_muts_relative_to[\"BA.2.86\"],\n",
    "    ),\n",
    "]:  \n",
    "    for phenotype, mut_df in mutation_phenotypes.groupby(\"phenotype\"):\n",
    "        phenos = PhenotypeAssigner(mut_df)\n",
    "\n",
    "        for clade, muts in df[[\"clade\", mut_col]].itertuples(index=False):\n",
    "            actual_pheno = phenos.phenotype(muts)\n",
    "            nmuts = len(muts)\n",
    "            randomized_phenotypes = []\n",
    "            for irandom in range(nrandom):\n",
    "                random.seed(irandom)\n",
    "                random_sites = set()\n",
    "                random_muts = []\n",
    "                while len(random_muts) < nmuts:\n",
    "                    wt, r, m = random.choice(randomize_muts)\n",
    "                    if r not in random_sites:\n",
    "                        random_sites.add(r)\n",
    "                        random_muts.append((wt, r, m))\n",
    "                randomized_phenotypes.append(phenos.phenotype(random_muts))\n",
    "            p = sum(actual_pheno <= r for r in randomized_phenotypes) / nrandom\n",
    "\n",
    "            pheno_changes_df.append(\n",
    "                (clade_set, phenotype, clade, nmuts, actual_pheno, p, randomized_phenotypes)\n",
    "            )\n",
    "\n",
    "pheno_changes_df = pd.DataFrame(\n",
    "    pheno_changes_df,\n",
    "    columns=[\"clade_set\", \"phenotype\", \"clade\", \"n_mutations\", \"value\", \"P\", \"randomized_values\"],\n",
    ")"
   ]
  },
  {
   "cell_type": "markdown",
   "id": "ef01438f-b364-4c51-86b4-60aa18b5d72c",
   "metadata": {},
   "source": [
    "Plot actual phenotype versus distribution of randomized phenotypes for BA.2.86 relative to BA.2:"
   ]
  },
  {
   "cell_type": "code",
   "execution_count": 7,
   "id": "bd6fe73b-4cce-4047-a5f6-53311ce8d7df",
   "metadata": {
    "execution": {
     "iopub.execute_input": "2024-03-04T12:24:02.736861Z",
     "iopub.status.busy": "2024-03-04T12:24:02.736538Z",
     "iopub.status.idle": "2024-03-04T12:24:02.863293Z",
     "shell.execute_reply": "2024-03-04T12:24:02.862577Z",
     "shell.execute_reply.started": "2024-03-04T12:24:02.736833Z"
    }
   },
   "outputs": [
    {
     "data": {
      "text/html": [
       "\n",
       "<style>\n",
       "  #altair-viz-1244e852441e4e8e9e882ae7543a9e85.vega-embed {\n",
       "    width: 100%;\n",
       "    display: flex;\n",
       "  }\n",
       "\n",
       "  #altair-viz-1244e852441e4e8e9e882ae7543a9e85.vega-embed details,\n",
       "  #altair-viz-1244e852441e4e8e9e882ae7543a9e85.vega-embed details summary {\n",
       "    position: relative;\n",
       "  }\n",
       "</style>\n",
       "<div id=\"altair-viz-1244e852441e4e8e9e882ae7543a9e85\"></div>\n",
       "<script type=\"text/javascript\">\n",
       "  var VEGA_DEBUG = (typeof VEGA_DEBUG == \"undefined\") ? {} : VEGA_DEBUG;\n",
       "  (function(spec, embedOpt){\n",
       "    let outputDiv = document.currentScript.previousElementSibling;\n",
       "    if (outputDiv.id !== \"altair-viz-1244e852441e4e8e9e882ae7543a9e85\") {\n",
       "      outputDiv = document.getElementById(\"altair-viz-1244e852441e4e8e9e882ae7543a9e85\");\n",
       "    }\n",
       "    const paths = {\n",
       "      \"vega\": \"https://cdn.jsdelivr.net/npm/vega@5?noext\",\n",
       "      \"vega-lib\": \"https://cdn.jsdelivr.net/npm/vega-lib?noext\",\n",
       "      \"vega-lite\": \"https://cdn.jsdelivr.net/npm/vega-lite@5.16.3?noext\",\n",
       "      \"vega-embed\": \"https://cdn.jsdelivr.net/npm/vega-embed@6?noext\",\n",
       "    };\n",
       "\n",
       "    function maybeLoadScript(lib, version) {\n",
       "      var key = `${lib.replace(\"-\", \"\")}_version`;\n",
       "      return (VEGA_DEBUG[key] == version) ?\n",
       "        Promise.resolve(paths[lib]) :\n",
       "        new Promise(function(resolve, reject) {\n",
       "          var s = document.createElement('script');\n",
       "          document.getElementsByTagName(\"head\")[0].appendChild(s);\n",
       "          s.async = true;\n",
       "          s.onload = () => {\n",
       "            VEGA_DEBUG[key] = version;\n",
       "            return resolve(paths[lib]);\n",
       "          };\n",
       "          s.onerror = () => reject(`Error loading script: ${paths[lib]}`);\n",
       "          s.src = paths[lib];\n",
       "        });\n",
       "    }\n",
       "\n",
       "    function showError(err) {\n",
       "      outputDiv.innerHTML = `<div class=\"error\" style=\"color:red;\">${err}</div>`;\n",
       "      throw err;\n",
       "    }\n",
       "\n",
       "    function displayChart(vegaEmbed) {\n",
       "      vegaEmbed(outputDiv, spec, embedOpt)\n",
       "        .catch(err => showError(`Javascript Error: ${err.message}<br>This usually means there's a typo in your chart specification. See the javascript console for the full traceback.`));\n",
       "    }\n",
       "\n",
       "    if(typeof define === \"function\" && define.amd) {\n",
       "      requirejs.config({paths});\n",
       "      require([\"vega-embed\"], displayChart, err => showError(`Error loading script: ${err.message}`));\n",
       "    } else {\n",
       "      maybeLoadScript(\"vega\", \"5\")\n",
       "        .then(() => maybeLoadScript(\"vega-lite\", \"5.16.3\"))\n",
       "        .then(() => maybeLoadScript(\"vega-embed\", \"6\"))\n",
       "        .catch(showError)\n",
       "        .then(() => displayChart(vegaEmbed));\n",
       "    }\n",
       "  })({\"config\": {\"view\": {\"continuousWidth\": 300, \"continuousHeight\": 300}}, \"data\": {\"name\": \"data-de39515d5cc4730bf8a2dad5f9c27d5b\"}, \"facet\": {\"field\": \"phenotype_P\", \"header\": {\"labelFontSize\": 11, \"labelFontStyle\": \"bold\", \"labelOrient\": \"bottom\", \"labelPadding\": 2}, \"title\": null, \"type\": \"nominal\"}, \"spec\": {\"layer\": [{\"mark\": {\"type\": \"boxplot\", \"color\": \"gray\", \"extent\": \"min-max\", \"opacity\": 0.5}, \"encoding\": {\"x\": {\"axis\": {\"grid\": false}, \"field\": \"value\", \"scale\": {\"nice\": false, \"padding\": 8, \"zero\": false}, \"title\": null, \"type\": \"quantitative\"}, \"y\": {\"axis\": null, \"field\": \"y\", \"title\": null, \"type\": \"nominal\"}}, \"transform\": [{\"calculate\": \"1\", \"as\": \"y\"}, {\"flatten\": [\"randomized_values\"]}, {\"calculate\": \"datum['randomized_values']\", \"as\": \"value\"}]}, {\"mark\": {\"type\": \"circle\", \"opacity\": 1, \"size\": 100}, \"encoding\": {\"x\": {\"axis\": {\"grid\": false}, \"field\": \"value\", \"scale\": {\"nice\": false, \"padding\": 8, \"zero\": false}, \"title\": null, \"type\": \"quantitative\"}, \"y\": {\"axis\": null, \"field\": \"y\", \"title\": null, \"type\": \"nominal\"}}, \"transform\": [{\"calculate\": \"1\", \"as\": \"y\"}]}], \"height\": {\"step\": 20}, \"width\": 370}, \"columns\": 1, \"resolve\": {\"scale\": {\"x\": \"independent\", \"y\": \"independent\"}}, \"spacing\": 12, \"title\": {\"text\": \"Predicted phenotypes of BA.2.86 relative to BA.2\", \"dy\": 15, \"orient\": \"bottom\", \"subtitle\": [\"Blue point is the predicted phenotype of BA.2.86 relative to BA.2.\", \"\", \"Gray min-max boxplots are predicted phenotypes of 100 sequences with\", \"as many spike mutations relative to BA.2 as BA.2.86 drawn randomly\", \"from mutations seen in at least 50 sequences in GISAID.\", \"\", \"P-values are indicated in x-axis labels for each plot row. All predictions\", \"are relative to mutation effects in XBB.1.5.\"]}, \"$schema\": \"https://vega.github.io/schema/vega-lite/v5.16.3.json\", \"datasets\": {\"data-de39515d5cc4730bf8a2dad5f9c27d5b\": [{\"phenotype\": \"EVEscape\", \"value\": 56.606, \"randomized_values\": [60.17889999999999, 66.62899999999999, 64.1118, 57.927200000000006, 63.943400000000004, 63.68949999999999, 67.4202, 75.25299999999999, 77.555, 63.261, 64.4117, 83.01030000000002, 68.85359999999999, 68.44519999999999, 60.49399999999999, 72.6538, 77.74799999999999, 48.120999999999995, 58.788199999999996, 58.502, 56.58749999999999, 52.373400000000004, 68.5429, 56.358000000000004, 62.40720000000002, 61.74100000000001, 76.61699999999998, 80.25900000000003, 74.795, 79.784, 70.67270000000003, 68.01860000000002, 66.55199999999999, 60.061400000000006, 58.3899, 73.39250000000001, 66.401, 70.35249999999999, 71.84210000000002, 68.3158, 65.9942, 62.63499999999999, 72.84880000000001, 62.152, 69.28099999999999, 73.545, 71.42, 62.97180000000001, 60.033899999999996, 55.8196, 71.6108, 74.046, 62.818, 67.0036, 67.501, 67.0284, 69.5699, 76.55819999999999, 55.539300000000004, 75.6658, 65.68809999999999, 77.662, 68.77269999999997, 61.1843, 62.302600000000005, 70.25599999999999, 64.9679, 72.27830000000002, 48.2629, 68.2731, 62.748, 66.018, 58.29580000000001, 64.864, 73.373, 63.0994, 81.783, 64.41779999999999, 62.62759999999999, 75.97110000000002, 47.70690000000001, 70.78400000000002, 64.07700000000001, 70.998, 76.8269, 70.2459, 58.223200000000006, 64.97240000000001, 77.39069999999998, 65.0754, 69.25929999999998, 74.77400000000002, 82.20139999999999, 75.868, 72.98799999999999, 63.828, 61.334999999999994, 69.73949999999999, 61.4577, 58.327999999999996], \"phenotype_P\": \"EVEscape (P = 0.92)\"}, {\"phenotype\": \"RBD yeast-display DMS ACE2 affinity\", \"value\": 0.8400000000000001, \"randomized_values\": [-4.42, -12.74, -3.19, -3.58, -7.779999999999999, -7.080000000000001, -4.21, -1.83, -1.3399999999999999, -6.7299999999999995, -7.13, -3.48, -0.6399999999999999, -0.44, -2.29, -5.93, -4.209999999999999, -4.0, -2.44, -8.74, -4.55, -6.86, -2.6100000000000003, -3.82, -0.13999999999999999, -6.16, -2.53, 0.31, -5.090000000000001, -2.42, -15.55, -6.23, -0.56, -2.0900000000000003, -1.05, -2.82, -4.72, -2.68, -0.5, 0.0, -0.15000000000000002, -4.74, -2.62, -0.020000000000000018, -6.4399999999999995, -2.2, -3.77, -3.4499999999999993, -3.38, -0.9299999999999999, -5.47, -4.23, -1.9000000000000001, -4.69, -0.81, -4.43, -0.5700000000000001, -4.86, -3.5, -0.41000000000000003, -2.89, -1.13, -1.15, -1.4300000000000002, -2.65, -3.8, -4.32, -2.2, -1.28, -2.42, 0.07, -5.57, -0.71, -0.04000000000000001, -2.71, -4.02, -2.8899999999999997, -1.73, -1.74, -1.2399999999999998, -5.07, -0.74, -3.46, -0.18, -6.709999999999999, -0.5900000000000001, -4.83, -0.5700000000000001, -3.53, -4.35, -2.96, -0.45, -1.28, -2.96, -3.41, -4.31, -2.08, -2.25, -8.72, -4.68], \"phenotype_P\": \"RBD yeast-display DMS ACE2 affinity (P < 0.01)\"}, {\"phenotype\": \"RBD yeast-display DMS RBD expression\", \"value\": -0.33999999999999986, \"randomized_values\": [-5.220000000000001, -7.13, -2.57, -2.5399999999999996, -2.5399999999999996, -4.010000000000001, -0.7600000000000001, -2.8899999999999997, -0.96, -5.23, -4.86, -0.61, -0.78, -0.8099999999999999, -2.26, -3.83, -4.699999999999999, -3.05, -2.7399999999999998, -4.29, -2.4000000000000004, -1.09, -2.4, -3.89, 0.0, -5.17, -0.32, -0.16, -2.48, -1.99, -12.280000000000001, -4.59, -1.12, -0.16999999999999998, -1.03, -2.3200000000000003, -2.62, -0.79, -0.24, 0.0, -0.19999999999999998, -3.71, -3.2, 0.42, -7.24, -1.78, -3.5499999999999994, -0.02999999999999997, -4.09, -0.3, -2.7299999999999995, -0.99, -1.3199999999999998, -1.9400000000000002, -0.33999999999999997, -4.0600000000000005, -1.01, -2.81, -2.19, -0.22, -1.3400000000000003, -0.26, -0.69, -2.2199999999999998, 0.010000000000000009, -4.05, -2.74, -2.32, -0.32, -0.9, -0.87, -5.63, 0.03, -0.02, -1.8599999999999999, -4.24, -0.86, -2.89, -0.77, -0.9600000000000001, -2.14, -0.2, -0.5399999999999999, -0.03, -4.859999999999999, 0.17, -2.48, -1.23, -2.98, -2.22, -2.06, 0.08000000000000002, -0.6900000000000001, -1.51, -1.91, -0.48000000000000004, -1.8200000000000003, -2.5300000000000002, -3.52, -2.92], \"phenotype_P\": \"RBD yeast-display DMS RBD expression (P = 0.2)\"}, {\"phenotype\": \"RBD yeast-display DMS escape\", \"value\": 0.1813, \"randomized_values\": [0.10267200000000001, 0.2635302, 0.225269, 0.022937700000000005, 0.25033951, 0.0214384, 0.15228, 0.03493061, 0.0780108, 0.14345049999999998, 0.0174202, 0.039054, 0.025812, 0.102787, 0.10295548, 0.0298671, 0.05567880000000001, 0.118064, 0.26841, 0.23520670000000002, 0.012392, 0.40854200000000007, 0.08305989999999999, 0.074051, 0.0186522, 0.1697654, 0.19113100000000002, 0.08857, 0.2488584, 0.23350099999999996, 0.2322555, 0.12942832999999998, 0.0565467, 0.42542929999999995, 0.0404582, 0.13687, 0.05538799999999999, 0.11545, 0.07484199999999999, 0.0, 0.13212000000000002, 0.07096412, 0.0993638, 0.0669851, 0.17021420000000004, 0.162605, 0.27167339999999995, -0.01556322, 0.0404758, 0.058742, 0.256038, 0.1202272, 0.1623497, 0.21756820000000002, 0.051752, 0.09028169999999999, 0.0234654, 0.128471, 0.0343477, 0.0322987, 0.25514, 0.06462899999999999, 0.07051, 0.010620000000000001, 0.125061, -0.0038600000000000036, 0.06819569999999998, 0.0001377, 0.048650000000000006, 0.050110999999999996, 0.018563999999999997, 0.0636757, 0.04608133, 0.0016659, 0.19938, 0.00286832, 0.12531199999999998, 0.051025299999999996, 0.101083, 0.2422321, -0.021337799999999997, 0.0713993, 0.049501699999999996, 0.01383, 0.14679609999999998, 0.036237000000000005, 0.10819000000000001, 0.0616087, 0.035282999999999995, 0.002471, 0.130866, 0.05735, 0.1074591, 0.022649, 0.217642, 0.140297, 0.0628703, 0.15802019999999997, 0.27986999999999995, 0.022819199999999998], \"phenotype_P\": \"RBD yeast-display DMS escape (P = 0.19)\"}, {\"phenotype\": \"spike pseudovirus DMS ACE2 binding\", \"value\": 2.2031140000000002, \"randomized_values\": [4.547665000000001, 1.8674699999999997, 0.6386400000000004, 1.8839299999999999, -2.59141, 3.5261250000000004, 1.32704, -1.911086, 1.49201, 0.8419619000000003, -0.17977700000000024, 0.705503, 2.2370034000000003, 4.24818, -1.5938119999999998, 3.618179, -2.0999649999999996, -1.393249, -0.6371800000000002, 0.06131700000000018, 8.69794, -4.163772000000002, 5.391890000000001, 2.91952, 5.094166, 0.927917, -0.46113, 3.1159600000000003, -0.19247799999999976, 2.7618039999999993, 2.0950369999999996, 1.3735199999999999, 0.32420000000000015, 3.181876, 0.1602930000000003, 2.7868214, 0.6376237999999997, -1.1512560000000003, -0.15509299999999993, 3.310841, -0.4474999999999998, -1.5349700000000004, 1.011027, 1.4213500000000001, 3.2957629999999996, -0.28690600000000027, -0.5238900000000002, 0.8605350000000002, 0.267954, 4.5277600000000024, 1.3295398999999997, -0.9139100000000002, 2.5127460000000004, 1.1376499999999998, -2.1757670999999994, 1.1395800000000003, 6.191164999999999, 0.887648, 1.121945, 2.69217, 0.43950000000000045, 0.6221900000000001, 2.2515729999999987, 5.79979, -3.9175400000000007, 0.4145129999999999, 4.585413000000001, 5.963422999999998, -0.09290000000000057, 1.2905309999999997, 2.5469349999999995, 1.5681102, -0.32077999999999995, 4.825995, 1.011482, -0.67444, 1.51193, 2.426766, 0.4983199999999999, -1.8719120000000002, 2.00034, 0.931392, 3.4926899999999996, 3.8155229999999993, 0.32144000000000006, 4.971032000000001, 0.30379999999999996, 6.625399999999999, 2.5944100000000003, 2.9681699999999998, -0.014169999999999128, 2.0601419999999995, 2.7968499999999996, 1.7679600000000004, 2.5558450000000015, -1.1231046, 2.284211, 0.6594720000000002, -1.049912, 2.965752], \"phenotype_P\": \"spike pseudovirus DMS ACE2 binding (P = 0.36)\"}, {\"phenotype\": \"spike pseudovirus DMS human sera escape\", \"value\": 2.32207, \"randomized_values\": [-0.13717899999999997, -0.23688999999999993, -0.6159730000000001, 0.49535909999999994, 1.7217904999999998, -0.2839711999999999, 0.03556919999999996, -0.3360088999999999, -0.5011757, -2.3404929999999995, -0.5972438000000001, -0.03263979999999998, -0.5858466999999998, -0.8480331999999998, -0.7473810000000001, -0.8909689999999999, 2.2397761999999997, -0.5326190000000002, -1.1124430000000003, -0.14508799999999997, -1.423076, 0.42444479999999996, -0.7688489999999999, -0.2903931999999999, -1.2434431, -0.11050400000000003, -0.8142501000000001, -1.1842978, -0.5423560000000001, -0.5420805999999999, -0.12653079999999997, -0.6079218, -0.51606399, -0.9964656000000001, 0.649998, -1.1868410000000003, -0.8923470000000001, -0.154905, -0.6576145999999999, -1.1622626, -0.6171819999999999, 0.5402820000000002, -1.578548, 0.09164600000000014, -0.6612326000000002, 1.2205738, -0.37174379999999996, -0.05739849999999992, -0.09429390000000004, 1.1684800000000004, -1.4492388999999999, -0.8418789999999998, -0.7664959999999997, -0.7181310000000001, 0.059720999999999955, -0.8003219999999999, 0.7233899999999995, 0.11615900000000004, 0.040794000000000046, -0.43905700000000003, -0.5520450999999998, 0.5761161, -1.0042174, -0.330386, 0.739459, -0.44423029999999997, -1.974109, -0.45616999999999985, -0.418872, 0.2916044000000001, -0.6068469999999999, -0.7757358999999999, 0.459793, -0.743684, -0.6323400000000001, 0.09573099999999993, -1.2271969999999999, -0.02006599999999991, -1.1179189999999997, 0.570953, 0.27885509999999997, -0.703036, -0.788566, 0.018032000000000027, -0.062747, -1.217158, -0.15614999999999996, -1.437356, -1.0110089999999998, 0.018037399999999974, 0.848151, 0.4778824, -1.7681347, -0.7922288999999999, -0.34474800000000005, 0.23388299999999995, 0.26128750999999995, -0.6837719999999999, -0.35097699999999993, -0.7836432999999999], \"phenotype_P\": \"spike pseudovirus DMS human sera escape (P < 0.01)\"}, {\"phenotype\": \"spike pseudovirus DMS spike mediated entry\", \"value\": -0.7714249999999999, \"randomized_values\": [-25.13652, -12.794800000000002, -29.062789999999993, -33.98174999999999, -32.52724, -22.928759000000003, -15.12948, -17.106065, -12.645364999999998, -33.98801, -25.644169999999992, -12.180430999999999, -34.15039000000001, -16.323480000000007, -22.893500000000003, -35.055611, -21.240090000000002, -17.04975, -18.466029999999996, -16.88359, -60.662181, -15.999250999999997, -27.340545, -32.9983, -35.28084500000001, -16.87735, -12.342789999999997, -18.25318, -16.231740000000006, -15.586517999999998, -30.25111, -12.846825, -11.795754999999998, -28.283203, -22.422845000000002, -27.970650000000003, -28.635645, -23.982795, -25.710110000000004, -24.731334999999994, -30.522884999999995, -14.507100000000005, -14.119195000000005, -25.173606999999997, -32.250294999999994, -12.051210000000001, -15.864419999999997, -16.865271999999997, -14.665519999999997, -29.715185000000005, -16.35039, -18.450830000000003, -20.137751, -45.94008500000001, -21.039832, -28.595790000000004, -34.8637, -12.627585000000002, -26.144705000000002, -29.828364999999994, -17.715459999999997, -16.6944, -13.618260000000001, -15.030149999999995, -38.937441, -15.235540000000004, -25.163414999999997, -21.48785, -22.602629999999998, -25.137660000000007, -12.690079999999998, -26.790652999999995, -12.383429999999999, -48.595008, -7.2873600000000005, -28.969034, -10.672355, -20.61564, -24.4148, -25.420235, -24.37758, -28.108959999999996, -15.282124999999999, -32.560750000000006, -19.928826, -53.038667999999994, -42.079139999999995, -29.89378, -7.679050000000001, -36.20044999999999, -18.21814, -10.571126999999999, -14.687785000000002, -16.513380000000005, -33.48571, -21.193310000000004, -24.207487000000004, -41.14483499999999, -13.249294999999998, -19.783564], \"phenotype_P\": \"spike pseudovirus DMS spike mediated entry (P < 0.01)\"}]}}, {\"mode\": \"vega-lite\"});\n",
       "</script>"
      ],
      "text/plain": [
       "alt.FacetChart(...)"
      ]
     },
     "execution_count": 7,
     "metadata": {},
     "output_type": "execute_result"
    }
   ],
   "source": [
    "ba_2_86_df = (\n",
    "    pheno_changes_df[\n",
    "        pheno_changes_df[\"clade_set\"] == \"BA.2.86 relative to BA.2\"\n",
    "    ]\n",
    "    .assign(\n",
    "        phenotype_P=lambda x: (\n",
    "            x[\"phenotype\"] + \" (P \" + x[\"P\"].map(lambda p: f\"< {1 / nrandom}\" if p == 0 else f\"= {p}\") + \")\"\n",
    "        )\n",
    "    )\n",
    "    .drop(columns=[\"clade_set\", \"clade\", \"n_mutations\", \"P\"])\n",
    ")\n",
    "\n",
    "ba_2_86_base = (\n",
    "    alt.Chart(ba_2_86_df)\n",
    "    .transform_calculate(y=\"1\")\n",
    "    .encode(\n",
    "        alt.X(\n",
    "            \"value\",\n",
    "            title=None,\n",
    "            axis=alt.Axis(grid=False),\n",
    "            scale=alt.Scale(zero=False, nice=False, padding=8),\n",
    "        ),\n",
    "        alt.Y(\"y:N\", title=None, axis=None),\n",
    "    )\n",
    ")\n",
    "\n",
    "ba_2_86_point = ba_2_86_base.mark_circle(size=100, opacity=1)\n",
    "\n",
    "ba_2_86_boxplot = (\n",
    "    ba_2_86_base\n",
    "    .transform_flatten([\"randomized_values\"])\n",
    "    .transform_calculate(value=alt.datum[\"randomized_values\"])\n",
    "    .mark_boxplot(color=\"gray\", opacity=0.5, extent=\"min-max\")\n",
    ")\n",
    "\n",
    "(\n",
    "    (ba_2_86_boxplot + ba_2_86_point)\n",
    "    .properties(width=370, height=alt.Step(20))\n",
    "    .facet(\n",
    "        alt.Facet(\n",
    "            \"phenotype_P\",\n",
    "            header=alt.Header(labelOrient=\"bottom\", labelPadding=2, labelFontSize=11, labelFontStyle=\"bold\"),\n",
    "            title=None,\n",
    "        ),\n",
    "        columns=1,\n",
    "        spacing=12,\n",
    "    )\n",
    "    .resolve_scale(x=\"independent\", y=\"independent\")\n",
    "    .properties(\n",
    "        title=alt.TitleParams(\n",
    "            \"Predicted phenotypes of BA.2.86 relative to BA.2\",\n",
    "            subtitle=[\n",
    "                \"Blue point is the predicted phenotype of BA.2.86 relative to BA.2.\",\n",
    "                \"\",\n",
    "                f\"Gray min-max boxplots are predicted phenotypes of {nrandom} sequences with\",\n",
    "                \"as many spike mutations relative to BA.2 as BA.2.86 drawn randomly\",\n",
    "                f\"from mutations seen in at least {gisaid_min_counts} sequences in GISAID.\",\n",
    "                \"\",\n",
    "                \"P-values are indicated in x-axis labels for each plot row. All predictions\",\n",
    "                \"are relative to mutation effects in XBB.1.5.\",\n",
    "            ],\n",
    "            dy=15,\n",
    "            orient=\"bottom\",\n",
    "        ),\n",
    "    )\n",
    ")\n"
   ]
  },
  {
   "cell_type": "code",
   "execution_count": null,
   "id": "5bb2402f-4155-49bd-8f0f-40cc74d9de2c",
   "metadata": {},
   "outputs": [],
   "source": []
  }
 ],
 "metadata": {
  "kernelspec": {
   "display_name": "Python 3 (ipykernel)",
   "language": "python",
   "name": "python3"
  },
  "language_info": {
   "codemirror_mode": {
    "name": "ipython",
    "version": 3
   },
   "file_extension": ".py",
   "mimetype": "text/x-python",
   "name": "python",
   "nbconvert_exporter": "python",
   "pygments_lexer": "ipython3",
   "version": "3.11.7"
  }
 },
 "nbformat": 4,
 "nbformat_minor": 5
}
