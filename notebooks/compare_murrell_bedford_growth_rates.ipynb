{
 "cells": [
  {
   "cell_type": "markdown",
   "id": "4bae5983-4b6c-44a0-9c7f-9a0e6db02f67",
   "metadata": {},
   "source": [
    "# Compare Ben Murrell and Trevor Bedford growth rate estimates"
   ]
  },
  {
   "cell_type": "code",
   "execution_count": null,
   "id": "02bd5276-24c0-4dbe-9ad5-c99f3e3dac6f",
   "metadata": {
    "editable": true,
    "slideshow": {
     "slide_type": ""
    },
    "tags": [
     "parameters"
    ]
   },
   "outputs": [],
   "source": [
    "# this cell is tagged parameters for `snakemake` parameterization\n",
    "murrell_rates_csv = None\n",
    "bedford_rates_url = None\n",
    "pango_json = None\n",
    "first_date_str = None"
   ]
  },
  {
   "cell_type": "code",
   "execution_count": null,
   "id": "d34b7cc5-3014-4c4b-942a-a60d4c0f3894",
   "metadata": {},
   "outputs": [],
   "source": [
    "import gzip\n",
    "import json\n",
    "import urllib.request\n",
    "\n",
    "import altair as alt\n",
    "\n",
    "import pandas as pd"
   ]
  },
  {
   "cell_type": "markdown",
   "id": "695abdea-2ea9-4155-97c9-4f7ff1e13e43",
   "metadata": {},
   "source": [
    "Read Bedford growth rates:"
   ]
  },
  {
   "cell_type": "code",
   "execution_count": null,
   "id": "cb902dee-164e-44f6-9a8c-76e017b4181d",
   "metadata": {},
   "outputs": [],
   "source": [
    "with urllib.request.urlopen(bedford_rates_url) as url:\n",
    "    bedford_growth_d = json.loads(gzip.decompress(url.read()))\n",
    "\n",
    "# convert to data frame\n",
    "bedford_growth = (\n",
    "    pd.DataFrame(bedford_growth_d[\"data\"])\n",
    "    .query(\"location == 'hierarchical'\")\n",
    "    .query(\"site == 'ga'\")\n",
    "    .pivot_table(index=\"variant\", values=\"value\", columns=\"ps\")\n",
    "    .reset_index(names=\"clade\")\n",
    "    .rename(columns={\"median\": \"Bedford clade growth\"})\n",
    "    [[\"clade\", \"Bedford clade growth\"]]\n",
    "    .query(\"clade != 'other'\")\n",
    ")\n",
    "assert len(bedford_growth) == bedford_growth[\"clade\"].nunique()\n",
    "\n",
    "print(f\"Read Bedford growth data for {len(bedford_growth)} clades\")"
   ]
  },
  {
   "cell_type": "markdown",
   "id": "75a3cf6f-d1b9-47a8-a01c-4c17da323db7",
   "metadata": {
    "execution": {
     "iopub.execute_input": "2024-03-08T01:18:04.988085Z",
     "iopub.status.busy": "2024-03-08T01:18:04.987417Z",
     "iopub.status.idle": "2024-03-08T01:18:10.622025Z",
     "shell.execute_reply": "2024-03-08T01:18:10.621274Z",
     "shell.execute_reply.started": "2024-03-08T01:18:04.988023Z"
    }
   },
   "source": [
    "Read Murrell growth rates:"
   ]
  },
  {
   "cell_type": "code",
   "execution_count": null,
   "id": "d1da4996-8f06-45a9-aa7d-3b1f41b83a3f",
   "metadata": {},
   "outputs": [],
   "source": [
    "murrell_growth = pd.read_csv(murrell_rates_csv).rename(\n",
    "    columns={\"pango\": \"clade\", \"R\": \"Murrell clade growth\"}\n",
    ")\n",
    "\n",
    "print(f\"Read Murrell growth data for {len(murrell_growth)} clades\")"
   ]
  },
  {
   "cell_type": "markdown",
   "id": "bfad2dd2-2a90-4478-aa16-43cd76b2c6cc",
   "metadata": {},
   "source": [
    "Merge the growth rates and add clade designation dates:"
   ]
  },
  {
   "cell_type": "code",
   "execution_count": null,
   "id": "c4ffc446-74c5-41aa-99a6-036fb09dd6dc",
   "metadata": {},
   "outputs": [],
   "source": [
    "with open(pango_json) as f:\n",
    "    clade_dates = (\n",
    "        pd.Series({clade: d[\"designationDate\"] for clade, d in json.load(f).items()})\n",
    "        .rename(\"date\")\n",
    "        .rename_axis(\"clade\")\n",
    "        .reset_index()\n",
    "        .assign(date=lambda x: pd.to_datetime(x[\"date\"]))\n",
    "    )\n",
    "\n",
    "first_date = pd.to_datetime(first_date_str)\n",
    "growth = (\n",
    "    bedford_growth\n",
    "    .merge(murrell_growth, validate=\"one_to_one\", on=\"clade\")\n",
    "    .merge(clade_dates, validate=\"one_to_one\", on=\"clade\")\n",
    "    .query(f\"date >= @first_date\")\n",
    ")\n",
    "\n",
    "print(f\"Growth rates for both Murrell and Bedford for {len(growth)} clades\")\n",
    "\n",
    "corr = growth[\"Murrell clade growth\"].corr(growth[\"Bedford clade growth\"])\n",
    "print(f\"The Pearson correlation is {corr:.2f}\")"
   ]
  },
  {
   "cell_type": "markdown",
   "id": "2446b5e7-ed80-452e-b955-5bd2c96b6376",
   "metadata": {},
   "source": [
    "Plot the correlation among growth rates:"
   ]
  },
  {
   "cell_type": "code",
   "execution_count": null,
   "id": "a12903fe-2546-48ec-8810-bf9ca6b7b275",
   "metadata": {},
   "outputs": [],
   "source": [
    "growth_chart = (\n",
    "    alt.Chart(growth)\n",
    "    .encode(\n",
    "        alt.X(\"Murrell clade growth\", scale=alt.Scale(zero=False, nice=False, padding=8)),\n",
    "        alt.Y(\"Bedford clade growth\", scale=alt.Scale(zero=False, nice=False, padding=8)),\n",
    "        tooltip=[\n",
    "            alt.Tooltip(\"Murrell clade growth\", format=\".3g\"),\n",
    "            alt.Tooltip(\"Bedford clade growth\", format=\".3g\"),\n",
    "            \"clade\",\n",
    "            \"date\",\n",
    "        ],\n",
    "    )\n",
    "    .mark_circle(size=60, opacity=0.5, stroke=\"black\", strokeWidth=0.5)\n",
    "    .configure_axis(grid=False)\n",
    "    .properties(\n",
    "        width=200,\n",
    "        height=200,\n",
    "        title=alt.TitleParams(\n",
    "            \"correlation of clade growth estimates\",\n",
    "            subtitle=[\n",
    "                f\"Pearson R = {corr:.2f}\",\n",
    "                f\"Showing clades designated on or after {first_date_str}\",\n",
    "            ],\n",
    "            dy=-8,\n",
    "        )\n",
    "    )\n",
    ")\n",
    "\n",
    "growth_chart"
   ]
  },
  {
   "cell_type": "code",
   "execution_count": null,
   "id": "2ac9c0d1-a4ad-4d69-9b33-4efbad25051a",
   "metadata": {},
   "outputs": [],
   "source": []
  }
 ],
 "metadata": {
  "kernelspec": {
   "display_name": "Python 3 (ipykernel)",
   "language": "python",
   "name": "python3"
  },
  "language_info": {
   "codemirror_mode": {
    "name": "ipython",
    "version": 3
   },
   "file_extension": ".py",
   "mimetype": "text/x-python",
   "name": "python",
   "nbconvert_exporter": "python",
   "pygments_lexer": "ipython3",
   "version": "3.11.7"
  }
 },
 "nbformat": 4,
 "nbformat_minor": 5
}
