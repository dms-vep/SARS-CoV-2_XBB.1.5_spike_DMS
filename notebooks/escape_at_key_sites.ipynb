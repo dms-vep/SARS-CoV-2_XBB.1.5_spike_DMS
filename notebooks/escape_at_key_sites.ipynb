{
 "cells": [
  {
   "cell_type": "markdown",
   "id": "a77371e3-3341-49c2-9bf3-d509a3098357",
   "metadata": {},
   "source": [
    "# Escape at key sites: logo plots and binding / escape correlations\n",
    "Make logo plots of serum escape at key sites, and look at relationship between escape and other phenotypes like ACE2 binding."
   ]
  },
  {
   "cell_type": "code",
   "execution_count": null,
   "id": "a02e531e-d12b-4211-8fc0-f75f723d8f6f",
   "metadata": {
    "editable": true,
    "slideshow": {
     "slide_type": ""
    },
    "tags": [
     "parameters"
    ]
   },
   "outputs": [],
   "source": [
    "# this cell is tagged as `parameters` for papermill parameterization\n",
    "dms_csv = None\n",
    "pango_consensus_seqs_json = None\n",
    "\n",
    "import os\n",
    "os.chdir(\"../\")"
   ]
  }
 ],
 "metadata": {
  "kernelspec": {
   "display_name": "Python 3 (ipykernel)",
   "language": "python",
   "name": "python3"
  },
  "language_info": {
   "codemirror_mode": {
    "name": "ipython",
    "version": 3
   },
   "file_extension": ".py",
   "mimetype": "text/x-python",
   "name": "python",
   "nbconvert_exporter": "python",
   "pygments_lexer": "ipython3",
   "version": "3.11.6"
  }
 },
 "nbformat": 4,
 "nbformat_minor": 5
}
