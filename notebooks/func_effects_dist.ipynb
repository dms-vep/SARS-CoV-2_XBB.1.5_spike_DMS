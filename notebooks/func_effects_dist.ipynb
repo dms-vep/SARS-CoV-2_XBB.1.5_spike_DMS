{
 "cells": [
  {
   "cell_type": "markdown",
   "id": "ca2ef850-c75b-4538-a227-875be2933101",
   "metadata": {
    "editable": true,
    "slideshow": {
     "slide_type": ""
    },
    "tags": []
   },
   "source": [
    "# Distribution of functional effects\n",
    "Get input variables"
   ]
  },
  {
   "cell_type": "code",
   "execution_count": null,
   "id": "5e84b39a-0ed0-4d9e-9113-f80a384bfd9d",
   "metadata": {
    "editable": true,
    "slideshow": {
     "slide_type": ""
    },
    "tags": [
     "parameters"
    ]
   },
   "outputs": [],
   "source": [
    "# this cell tagged as `parameters` for `papermill` parameterization\n",
    "xbb15_func_effects_csv = None\n",
    "ba2_func_effects_csv = None\n",
    "site_numbering_map_csv = None\n",
    "init_min_times_seen = None\n",
    "init_min_n_libraries = None"
   ]
  },
  {
   "cell_type": "code",
   "execution_count": null,
   "id": "967efdba-bae0-48ef-93b0-47140b47ec74",
   "metadata": {
    "editable": true,
    "slideshow": {
     "slide_type": ""
    },
    "tags": []
   },
   "outputs": [],
   "source": [
    "import altair as alt\n",
    "\n",
    "import numpy\n",
    "\n",
    "import pandas as pd\n",
    "\n",
    "import scipy.stats\n",
    "\n",
    "_ = alt.data_transformers.disable_max_rows()"
   ]
  },
  {
   "cell_type": "code",
   "execution_count": null,
   "id": "5d988881-0611-483d-9526-7699e3508570",
   "metadata": {
    "editable": true,
    "slideshow": {
     "slide_type": ""
    },
    "tags": []
   },
   "outputs": [],
   "source": [
    "xbb15_func_effects = pd.read_csv(xbb15_func_effects_csv)\n",
    "ba2_func_effects = pd.read_csv(ba2_func_effects_csv)\n",
    "site_numbering_map = pd.read_csv(site_numbering_map_csv)\n",
    "\n",
    "func_effects = pd.concat(\n",
    "    [\n",
    "        xbb15_func_effects.assign(strain=\"XBB.1.5\"),\n",
    "        ba2_func_effects.assign(strain=\"BA.2\"),\n",
    "    ]\n",
    ").merge(\n",
    "    site_numbering_map.rename(columns={\"reference_site\": \"site\"})[[\"site\", \"region\"]]\n",
    ")"
   ]
  },
  {
   "cell_type": "markdown",
   "id": "d3600804-4209-4aae-a765-6bd99f2fbf6a",
   "metadata": {
    "editable": true,
    "slideshow": {
     "slide_type": ""
    },
    "tags": []
   },
   "source": [
    "# Plot distribution of functional effects for different domains\n",
    "\n",
    "Make box plots:"
   ]
  },
  {
   "cell_type": "code",
   "execution_count": null,
   "id": "96db7f9b-4a46-4450-b574-40c4c70e7a9a",
   "metadata": {
    "editable": true,
    "slideshow": {
     "slide_type": ""
    },
    "tags": []
   },
   "outputs": [],
   "source": [
    "dist_df = (\n",
    "    func_effects\n",
    "    .query(\"wildtype != mutant\")\n",
    "    .query(\"wildtype != '*'\")\n",
    "    .assign(\n",
    "        mutation=lambda x: x[\"wildtype\"] + x[\"site\"].astype(str) + x[\"mutant\"],\n",
    "        mut_type=lambda x: numpy.where(\n",
    "            x[\"mutant\"] == \"*\",\n",
    "            \"stop codon\",\n",
    "            numpy.where(x[\"mutant\"] == \"-\", \"deletion\", \"substitution\"),\n",
    "        ),\n",
    "        times_seen=lambda x: x[\"times_seen\"].astype(int),\n",
    "    )\n",
    "    .rename(columns={\"n_selections\": \"n_libraries\"})\n",
    "    [[\"strain\", \"mutation\", \"effect\", \"mut_type\", \"region\", \"times_seen\", \"n_libraries\"]]\n",
    ")\n",
    "\n",
    "times_seen_slider = alt.param(\n",
    "    value=init_min_times_seen,\n",
    "    bind=alt.binding_range(\n",
    "        name=\"minimum times seen\",\n",
    "        min=1,\n",
    "        step=0.5,\n",
    "        max=min(10, dist_df[\"times_seen\"].max()),\n",
    "    ),\n",
    ")\n",
    "\n",
    "n_libraries_slider = alt.param(\n",
    "    value=init_min_n_libraries,\n",
    "    bind=alt.binding_range(\n",
    "        name=\"minimum number of libraries\",\n",
    "        min=1,\n",
    "        step=1,\n",
    "        max=dist_df[\"n_libraries\"].max(),\n",
    "    ),\n",
    ")\n",
    "\n",
    "effect_floor_slider = alt.param(\n",
    "    value=dist_df[\"effect\"].min(),\n",
    "    bind=alt.binding_range(\n",
    "        name=\"mutation effect floor (clip values < this)\",\n",
    "        min=dist_df[\"effect\"].min(),\n",
    "        max=0,\n",
    "    ),\n",
    ")\n",
    "\n",
    "n_mutations_slider = alt.param(\n",
    "    value=1,\n",
    "    bind=alt.binding_range(\n",
    "        name=\"mutation number of mutations to show category\",\n",
    "        min=1,\n",
    "        max=50,\n",
    "    ),\n",
    ")\n",
    "\n",
    "dist_boxplot = (\n",
    "    alt.Chart(dist_df)\n",
    "    .transform_filter(alt.datum[\"times_seen\"] > times_seen_slider)\n",
    "    .transform_filter(alt.datum[\"n_libraries\"] >= n_libraries_slider)\n",
    "    .transform_calculate(\n",
    "        effect_floored=alt.expr.max(alt.datum[\"effect\"], effect_floor_slider),\n",
    "    )\n",
    "    .transform_joinaggregate(\n",
    "        n_mutations=\"count()\",\n",
    "        groupby=[\"region\", \"strain\", \"mut_type\"],\n",
    "    )\n",
    "    .transform_filter(alt.datum[\"n_mutations\"] >= n_mutations_slider)\n",
    "    .encode(\n",
    "        x=alt.X(\n",
    "            \"mut_type\",\n",
    "            title=None,\n",
    "            axis=alt.Axis(labelFontSize=11, labelFontStyle=\"bold\", labelAngle=0),\n",
    "            scale=alt.Scale(domain=[\"substitution\", \"stop codon\", \"deletion\"]),\n",
    "        ),\n",
    "        y=alt.Y(\n",
    "            \"effect_floored:Q\",\n",
    "            title=\"mutation effect on cell entry\",\n",
    "            scale=alt.Scale(nice=False, padding=2),\n",
    "        ),\n",
    "        color=alt.Color(\"region\"),\n",
    "        xOffset=alt.XOffset(\"region\"),\n",
    "        column=alt.Column(\n",
    "            \"strain\",\n",
    "            title=None,\n",
    "            sort=[\"XBB.1.5\", \"BA.2\"],\n",
    "            header=alt.Header(labelFontSize=13, labelFontStyle=\"bold\", labelPadding=2),\n",
    "            spacing=2,\n",
    "        ),\n",
    "    )\n",
    "    .mark_boxplot(outliers=False, extent=0.75, size=12)\n",
    "    .configure_axis(grid=False)\n",
    "    .add_params(\n",
    "        times_seen_slider,\n",
    "        n_libraries_slider,\n",
    "        effect_floor_slider,\n",
    "        n_mutations_slider,\n",
    "    )\n",
    "    .properties(height=160, width=alt.Step(14))\n",
    ")\n",
    "\n",
    "dist_boxplot"
   ]
  },
  {
   "cell_type": "code",
   "execution_count": null,
   "id": "e2270f44-5232-4a20-8bdb-4d7c2201c7bf",
   "metadata": {},
   "outputs": [],
   "source": []
  }
 ],
 "metadata": {
  "kernelspec": {
   "display_name": "Python 3 (ipykernel)",
   "language": "python",
   "name": "python3"
  },
  "language_info": {
   "codemirror_mode": {
    "name": "ipython",
    "version": 3
   },
   "file_extension": ".py",
   "mimetype": "text/x-python",
   "name": "python",
   "nbconvert_exporter": "python",
   "pygments_lexer": "ipython3",
   "version": "3.11.4"
  }
 },
 "nbformat": 4,
 "nbformat_minor": 5
}
