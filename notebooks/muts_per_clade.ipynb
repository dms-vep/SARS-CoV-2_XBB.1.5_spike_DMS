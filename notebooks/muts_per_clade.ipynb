{
 "cells": [
  {
   "cell_type": "markdown",
   "id": "4a8a08bc-d136-4ae3-8dd9-c6e204d9f845",
   "metadata": {},
   "source": [
    "# Plot mutations per Pango clade relative to Wuhan-Hu-1 versus clade designation date"
   ]
  },
  {
   "cell_type": "code",
   "execution_count": null,
   "id": "a2348aba-a5f3-46b1-bad7-616d0deb8c96",
   "metadata": {
    "editable": true,
    "papermill": {
     "duration": 0.024672,
     "end_time": "2023-10-23T13:25:24.838133",
     "exception": false,
     "start_time": "2023-10-23T13:25:24.813461",
     "status": "completed"
    },
    "slideshow": {
     "slide_type": ""
    },
    "tags": [
     "parameters"
    ]
   },
   "outputs": [],
   "source": [
    "pango_consensus_seqs_json = None  # JSON with Pango sequences for each clade\n",
    "chart_html = None  # output chart"
   ]
  },
  {
   "cell_type": "code",
   "execution_count": null,
   "id": "c8997faa-b430-49f0-acde-a060009fdee6",
   "metadata": {
    "papermill": {
     "duration": 2.286382,
     "end_time": "2023-10-23T13:25:27.168351",
     "exception": false,
     "start_time": "2023-10-23T13:25:24.881969",
     "status": "completed"
    },
    "tags": []
   },
   "outputs": [],
   "source": [
    "import collections\n",
    "import json\n",
    "\n",
    "import altair as alt\n",
    "\n",
    "import pandas as pd\n",
    "\n",
    "_ = alt.data_transformers.disable_max_rows()"
   ]
  },
  {
   "cell_type": "markdown",
   "id": "4e0c4eb5-33f2-47a3-bb6d-7d2be923e8d2",
   "metadata": {
    "papermill": {
     "duration": 0.014176,
     "end_time": "2023-10-23T13:25:27.198640",
     "exception": false,
     "start_time": "2023-10-23T13:25:27.184464",
     "status": "completed"
    },
    "tags": []
   },
   "source": [
    "First, read all Pango clades and get their new mutations relative to parents and to reference:"
   ]
  },
  {
   "cell_type": "code",
   "execution_count": null,
   "id": "2ecbdaaa-37a1-4169-a9d1-8b53a550cce7",
   "metadata": {
    "papermill": {
     "duration": 0.106094,
     "end_time": "2023-10-23T13:25:27.318632",
     "exception": false,
     "start_time": "2023-10-23T13:25:27.212538",
     "status": "completed"
    },
    "tags": []
   },
   "outputs": [],
   "source": [
    "with open(pango_consensus_seqs_json) as f:\n",
    "    pango_clades = json.load(f)\n",
    "\n",
    "records = collections.defaultdict(list)\n",
    "\n",
    "for clade, clade_d in pango_clades.items():\n",
    "    records[\"clade\"].append(clade)\n",
    "    records[\"date\"].append(clade_d[\"designationDate\"])\n",
    "    records[\"muts_from_ref\"].append(\n",
    "        [\n",
    "            mut\n",
    "            for field in [\"aaSubstitutions\", \"aaDeletions\"]\n",
    "            for mut in clade_d[field]\n",
    "            if mut\n",
    "        ]\n",
    "    )\n",
    "\n",
    "def get_descendants(clade, desc_list):\n",
    "    desc_list.append(clade)\n",
    "    for child in pango_clades[clade][\"children\"]:\n",
    "        get_descendants(child, desc_list)\n",
    "    return desc_list\n",
    "\n",
    "xbb_clades = get_descendants(\"XBB\", [])\n",
    "\n",
    "pango_df = pd.DataFrame(records).query(\"date != ''\").assign(\n",
    "    spike_muts=lambda x: x[\"muts_from_ref\"].apply(\n",
    "        lambda ms: [m for m in ms if m.split(\":\")[0] == \"S\"]\n",
    "    ),\n",
    "    n_spike_muts=lambda x: x[\"spike_muts\"].map(len),\n",
    "    is_xbb_descendant=lambda x: x[\"clade\"].isin(xbb_clades),\n",
    "    date=lambda x: pd.to_datetime(x[\"date\"]),\n",
    ")\n",
    "\n",
    "pango_df"
   ]
  },
  {
   "cell_type": "code",
   "execution_count": null,
   "id": "f4d414a9-8ec6-476b-8ee2-3585ccc2e24a",
   "metadata": {},
   "outputs": [],
   "source": [
    "chart = (\n",
    "    alt.Chart(pango_df)\n",
    "    .encode(\n",
    "        alt.X(\n",
    "            \"date\",\n",
    "            title=\"clade designation date\",\n",
    "            scale=alt.Scale(nice=True),\n",
    "            axis=alt.Axis(tickCount=\"year\", labelOverlap=True),\n",
    "        ),\n",
    "        alt.Y(\n",
    "            \"n_spike_muts\",\n",
    "            title=\"spike mutations from Wu-Hu-1\",\n",
    "        ),\n",
    "        alt.Color(\n",
    "            \"is_xbb_descendant\",\n",
    "            title=\"XBB clade\",\n",
    "            scale=alt.Scale(range=[\"gray\", \"orange\"]),\n",
    "            legend=alt.Legend(symbolOpacity=1, orient=\"top\", titleOrient=\"left\"),\n",
    "        ),\n",
    "        tooltip=[\"clade\", \"date\", \"n_spike_muts\", \"is_xbb_descendant\"],\n",
    "    )\n",
    "    .mark_circle(opacity=0.25)\n",
    "    .configure_axis(grid=False)\n",
    "    .properties(width=160, height=150)\n",
    ")\n",
    "\n",
    "print(f\"Saving to {chart_html}\")\n",
    "chart.save(chart_html)\n",
    "\n",
    "chart"
   ]
  },
  {
   "cell_type": "code",
   "execution_count": null,
   "id": "30916317-63c2-40f2-b1b2-aff9a9a69dcf",
   "metadata": {},
   "outputs": [],
   "source": []
  }
 ],
 "metadata": {
  "kernelspec": {
   "display_name": "Python 3 (ipykernel)",
   "language": "python",
   "name": "python3"
  },
  "language_info": {
   "codemirror_mode": {
    "name": "ipython",
    "version": 3
   },
   "file_extension": ".py",
   "mimetype": "text/x-python",
   "name": "python",
   "nbconvert_exporter": "python",
   "pygments_lexer": "ipython3",
   "version": "3.11.4"
  }
 },
 "nbformat": 4,
 "nbformat_minor": 5
}
