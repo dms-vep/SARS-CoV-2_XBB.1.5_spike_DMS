{
 "cells": [
  {
   "cell_type": "markdown",
   "id": "dc1a8477-fd5c-4446-bde6-c51c4bef37be",
   "metadata": {},
   "source": [
    "# ACE2 binding effects of non-RBD mutations in natural sequences\n",
    "Look at ACE2 binding effects of mutations in non-RBD sequences."
   ]
  },
  {
   "cell_type": "code",
   "execution_count": null,
   "id": "a7bc5058-59c0-4522-bccd-a7f7fb975dc4",
   "metadata": {
    "editable": true,
    "slideshow": {
     "slide_type": ""
    },
    "tags": [
     "parameters"
    ]
   },
   "outputs": [],
   "source": [
    "# this cell is tagged as `parameters` for `papermill` parameterization\n",
    "dms_summary_csv = None\n",
    "pango_consensus_seqs_json = None"
   ]
  },
  {
   "cell_type": "code",
   "execution_count": null,
   "id": "f1e19461-6ff7-442a-b696-06c94e7df1e3",
   "metadata": {},
   "outputs": [],
   "source": [
    "import collections\n",
    "import json\n",
    "\n",
    "import altair as alt\n",
    "\n",
    "import numpy\n",
    "\n",
    "import pandas as pd"
   ]
  },
  {
   "cell_type": "markdown",
   "id": "4bec9746-be2f-4221-97e2-96d86db0ea05",
   "metadata": {},
   "source": [
    "Get spike mutations relative to reference and new spike mutations relative to parent in Pango clades descended from starting clades:"
   ]
  },
  {
   "cell_type": "code",
   "execution_count": null,
   "id": "9cb99ad0-2184-4597-bf0d-417c31109d98",
   "metadata": {},
   "outputs": [],
   "source": [
    "starting_clades = [\"XBB\", \"BA.2\", \"BA.5\"]\n",
    "\n",
    "with open(pango_consensus_seqs_json) as f:\n",
    "    pango_clades = json.load(f)\n",
    "\n",
    "def build_records(c, recs):\n",
    "    \"\"\"Build records of Pango clade information.\"\"\"\n",
    "    if c in recs[\"clade\"]:\n",
    "        return\n",
    "    recs[\"clade\"].append(c)\n",
    "    recs[\"date\"].append(pango_clades[c][\"designationDate\"])\n",
    "    recs[\"new_spike_muts\"].append(\n",
    "        [\n",
    "            mut.split(\":\")[1]\n",
    "            for field in [\"aaSubstitutionsNew\", \"aaDeletionsNew\"]\n",
    "            for mut in pango_clades[c][field]\n",
    "            if mut.startswith(\"S:\")\n",
    "        ]\n",
    "    )\n",
    "    recs[\"spike_muts\"].append(\n",
    "        [\n",
    "            mut.split(\":\")[1]\n",
    "            for field in [\"aaSubstitutions\", \"aaDeletions\"]\n",
    "            for mut in pango_clades[c][field]\n",
    "            if mut.startswith(\"S:\")\n",
    "        ]\n",
    "    )\n",
    "    for c_child in pango_clades[c][\"children\"]:\n",
    "        build_records(c_child, recs)\n",
    "        \n",
    "pango_dfs = []\n",
    "for starting_clade in starting_clades:\n",
    "    records = collections.defaultdict(list)\n",
    "    build_records(starting_clade, records)\n",
    "    pango_dfs.append(\n",
    "        pd.DataFrame(records)\n",
    "        .query(\"clade != @starting_clade\")\n",
    "        .assign(parent_clade=starting_clade)\n",
    "    )\n",
    "\n",
    "pango_df = pd.concat(pango_dfs)"
   ]
  },
  {
   "cell_type": "markdown",
   "id": "2f6d620e-0e8a-412a-a062-6409136d6c3a",
   "metadata": {
    "execution": {
     "iopub.execute_input": "2023-09-26T12:49:31.762754Z",
     "iopub.status.busy": "2023-09-26T12:49:31.762303Z",
     "iopub.status.idle": "2023-09-26T12:49:31.793309Z",
     "shell.execute_reply": "2023-09-26T12:49:31.792515Z",
     "shell.execute_reply.started": "2023-09-26T12:49:31.762719Z"
    }
   },
   "source": [
    "Get the counts of how many times each mutation newly occurs in a clade:"
   ]
  },
  {
   "cell_type": "code",
   "execution_count": null,
   "id": "6d1329c1-4ff1-4477-aad6-9f5fc9629416",
   "metadata": {},
   "outputs": [],
   "source": [
    "new_mut_counts = (\n",
    "    pango_df\n",
    "    .explode(\"new_spike_muts\")\n",
    "    .query(\"new_spike_muts.notnull()\")\n",
    "    .rename(columns={\"new_spike_muts\": \"mutation\"})\n",
    "    .groupby([\"parent_clade\", \"mutation\"], as_index=False)\n",
    "    .aggregate(\n",
    "        n_clades=pd.NamedAgg(\"clade\", \"count\"),\n",
    "        clades=pd.NamedAgg(\"clade\", \"unique\"),\n",
    "    )\n",
    "    .assign(\n",
    "        site=lambda x: x[\"mutation\"].str[1: -1].astype(int),\n",
    "        clades=lambda x: x[\"clades\"].map(lambda s: \"; \".join(s)),\n",
    "    )\n",
    ")"
   ]
  },
  {
   "cell_type": "markdown",
   "id": "c5860afc-5424-4e14-a5a7-ea8c720c115c",
   "metadata": {},
   "source": [
    "Add DMS phenotypes:"
   ]
  },
  {
   "cell_type": "code",
   "execution_count": null,
   "id": "e924b318-406e-4128-9b58-719ca0f0dad6",
   "metadata": {},
   "outputs": [],
   "source": [
    "xbb15_dms = pd.read_csv(xbb15_dms_csv).rename(\n",
    "    columns={\n",
    "        \"spike mediated entry\": \"cell entry\",\n",
    "        \"human sera escape\": \"sera escape\",\n",
    "    }\n",
    ")\n",
    "\n",
    "ba2_dms = pd.read_csv(ba2_dms_csv).rename(\n",
    "    columns={\n",
    "        \"spike mediated entry\": \"cell entry\",\n",
    "        \"human sera escape\": \"sera escape\",\n",
    "        \"ACE2 affinity\": \"ACE2 binding\",\n",
    "    }\n",
    ")\n",
    "\n",
    "# specify DMS phenotypes of interest\n",
    "phenotypes = [\n",
    "#    \"sera escape\",\n",
    "    \"ACE2 binding\",\n",
    "    \"cell entry\",\n",
    "]\n",
    "assert set(phenotypes).issubset(xbb15_dms.columns)\n",
    "assert set(phenotypes).issubset(ba2_dms.columns)\n",
    "\n",
    "def mut_dms(m, dms_data, site_to_region, dms_wt):\n",
    "    \"\"\"Get DMS phenotypes for a mutation.\"\"\"\n",
    "    null_d = {k: pd.NA for k in phenotypes}\n",
    "    if pd.isnull(m) or int(m[1: -1]) not in dms_wt:\n",
    "        d = null_d\n",
    "        d[\"is_RBD\"] = pd.NA\n",
    "    else:\n",
    "        parent = m[0]\n",
    "        site = int(m[1: -1])\n",
    "        mut = m[-1]\n",
    "        wt = dms_wt[site]\n",
    "        if parent == wt:\n",
    "            try:\n",
    "                d = dms_data[(site, parent, mut)]\n",
    "            except KeyError:\n",
    "                d = null_d\n",
    "        elif mut == wt:\n",
    "            try:\n",
    "                d = {k: -v for (k, v) in dms_data[(site, mut, parent)].items()}\n",
    "            except KeyError:\n",
    "                d = null_d\n",
    "        else:\n",
    "            try:\n",
    "                parent_d = dms_data[(site, wt, parent)]\n",
    "                mut_d = dms_data[(site, wt, mut)]\n",
    "                d = {p: mut_d[p] - parent_d[p] for p in phenotypes}\n",
    "            except KeyError:\n",
    "                d = null_d\n",
    "        d[\"is_RBD\"] = (site_to_region[site] == \"RBD\")\n",
    "    assert list(d) == phenotypes + [\"is_RBD\"]\n",
    "    return d\n",
    "\n",
    "site_to_region = {}\n",
    "\n",
    "for strain, dms_df in [(\"XBB.1.5\", xbb15_dms), (\"BA.2\", ba2_dms)]:\n",
    "\n",
    "    # dict that maps site to wildtype in DMS\n",
    "    dms_wt = dms_df.set_index(\"site\")[\"wildtype\"].to_dict()\n",
    "    \n",
    "    # dict that maps site to region in DMS\n",
    "    site_to_region = dms_df.set_index(\"site\")[\"region\"].to_dict()\n",
    "    \n",
    "    dms_data = (\n",
    "        dms_df\n",
    "        .set_index([\"site\", \"wildtype\", \"mutant\"])\n",
    "        [phenotypes]\n",
    "        .to_dict(orient=\"index\")\n",
    "    )\n",
    "\n",
    "    site_to_region.update(dms_df.set_index(\"site\")[\"region\"].to_dict())\n",
    "\n",
    "    for phenotype in phenotypes:\n",
    "        new_mut_counts[f\"{strain} {phenotype}\"] = new_mut_counts[\"mutation\"].map(\n",
    "            lambda m: mut_dms(m, dms_data, site_to_region, dms_wt)[phenotype]\n",
    "        )\n",
    "\n",
    "new_mut_counts[\"region\"] = new_mut_counts[\"site\"].map(site_to_region)"
   ]
  },
  {
   "cell_type": "markdown",
   "id": "b99d6515-558b-438e-bb67-416ef89428d3",
   "metadata": {},
   "source": [
    "Look at non-RBD mutations observed at least 3 times in XBB-descended clades that substantially increase ACE2 binding:"
   ]
  },
  {
   "cell_type": "code",
   "execution_count": null,
   "id": "92f50f37-c1c9-4722-b9fa-bd97e64a0c59",
   "metadata": {},
   "outputs": [],
   "source": [
    "pd.set_option(\"display.max_colwidth\", 1000)\n",
    "\n",
    "display(\n",
    "    new_mut_counts\n",
    "    .sort_values(\"XBB.1.5 ACE2 binding\", ascending=False)\n",
    "    .query(\"parent_clade == 'XBB'\")\n",
    "    .query(\"region != 'RBD'\")\n",
    "    .query(\"n_clades >= 3\")\n",
    "    .query(\"`XBB.1.5 ACE2 binding` >= 0.1\")\n",
    "    .reset_index(drop=True)\n",
    ")"
   ]
  },
  {
   "cell_type": "markdown",
   "id": "0ee2f979-2735-4c91-ba5d-3862e72688d8",
   "metadata": {},
   "source": [
    "Same for BA.2 and BA.5 descended clades:"
   ]
  },
  {
   "cell_type": "code",
   "execution_count": null,
   "id": "c6dc009b-dad5-484e-891c-33a1c6434ab8",
   "metadata": {},
   "outputs": [],
   "source": [
    "pd.set_option(\"display.max_colwidth\", 1000)\n",
    "\n",
    "display(\n",
    "    new_mut_counts\n",
    "    .sort_values(\"BA.2 ACE2 binding\", ascending=False)\n",
    "    .query(\"parent_clade in ['BA.5', 'BA.2']\")\n",
    "    .query(\"region != 'RBD'\")\n",
    "    .query(\"n_clades >= 3\")\n",
    "    .query(\"`BA.2 ACE2 binding` >= 0.1\")\n",
    "    .reset_index(drop=True)\n",
    ")"
   ]
  },
  {
   "cell_type": "markdown",
   "id": "94c5c040-675b-4688-a927-0b132e8e821c",
   "metadata": {
    "execution": {
     "iopub.execute_input": "2023-09-27T22:45:17.744214Z",
     "iopub.status.busy": "2023-09-27T22:45:17.743721Z",
     "iopub.status.idle": "2023-09-27T22:45:17.755944Z",
     "shell.execute_reply": "2023-09-27T22:45:17.754949Z",
     "shell.execute_reply.started": "2023-09-27T22:45:17.744166Z"
    }
   },
   "source": [
    "Also look at how well libraries cover mutations of interest by seeing what fraction of all new mutations in descendant clades are covered well enough to make viral entry estimates for both the BA.2 and XBB libraries and those parent clades:"
   ]
  },
  {
   "cell_type": "code",
   "execution_count": null,
   "id": "1184bac6-e48e-4b85-a8cd-c89f374494c2",
   "metadata": {},
   "outputs": [],
   "source": [
    "has_measurement_df = (\n",
    "    new_mut_counts\n",
    "    .query(\"region.notnull()\")  # excludes cytoplasmic tail\n",
    "    .assign(\n",
    "        has_entry_measurement=lambda x: numpy.where(\n",
    "            x[\"parent_clade\"] == \"BA.2\",\n",
    "            x[\"BA.2 cell entry\"].notnull(),\n",
    "            x[\"XBB.1.5 cell entry\"].notnull(),\n",
    "        ),\n",
    "        n_clades=lambda x: x[\"n_clades\"].clip(upper=6),\n",
    "    )\n",
    "    [[\"parent_clade\", \"mutation\", \"n_clades\", \"has_entry_measurement\"]]\n",
    ")\n",
    "\n",
    "print(\"Mutations that appear in any Pango clades that have measurements\")\n",
    "display(\n",
    "    has_measurement_df\n",
    "    .assign(in_multiple_clades=lambda x: x[\"n_clades\"] > 1)\n",
    "    .groupby([\"parent_clade\", \"in_multiple_clades\"])\n",
    "    .aggregate(\n",
    "        n_mutations=pd.NamedAgg(\"mutation\", \"count\"),\n",
    "        has_entry_measurement=pd.NamedAgg(\"has_entry_measurement\", \"sum\"),\n",
    "    )\n",
    ")\n",
    "\n",
    "has_measurement_chart = (\n",
    "    alt.Chart(has_measurement_df)\n",
    "    .encode(\n",
    "        x=alt.X(\n",
    "            \"n_clades\",\n",
    "            bin=alt.BinParams(step=1),\n",
    "        ),\n",
    "        y=alt.Y(\"count()\"),\n",
    "        color=\"has_entry_measurement\",\n",
    "        column=\"parent_clade\",\n",
    "        tooltip=[\"n_clades\", \"count()\"],\n",
    "    )\n",
    "    .mark_bar()\n",
    ")\n",
    "\n",
    "has_measurement_chart"
   ]
  },
  {
   "cell_type": "code",
   "execution_count": null,
   "id": "25de1191-117d-4737-a810-41455915636f",
   "metadata": {},
   "outputs": [],
   "source": []
  }
 ],
 "metadata": {
  "kernelspec": {
   "display_name": "Python 3 (ipykernel)",
   "language": "python",
   "name": "python3"
  },
  "language_info": {
   "codemirror_mode": {
    "name": "ipython",
    "version": 3
   },
   "file_extension": ".py",
   "mimetype": "text/x-python",
   "name": "python",
   "nbconvert_exporter": "python",
   "pygments_lexer": "ipython3",
   "version": "3.11.4"
  }
 },
 "nbformat": 4,
 "nbformat_minor": 5
}
