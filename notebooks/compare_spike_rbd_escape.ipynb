{
 "cells": [
  {
   "cell_type": "markdown",
   "id": "1cc7b979-9554-4c27-b3ec-e9dc4af14fb8",
   "metadata": {
    "editable": true,
    "slideshow": {
     "slide_type": ""
    },
    "tags": []
   },
   "source": [
    "# Compare escape in spike and RBD deep mutational scans\n",
    "Compare antibody-escape in spike and RBD deep mutational scanning libraries:"
   ]
  },
  {
   "cell_type": "code",
   "execution_count": 1,
   "id": "5871de92-aa30-40b0-98e0-3e33ecc08af2",
   "metadata": {
    "editable": true,
    "execution": {
     "iopub.execute_input": "2023-09-05T02:33:19.066876Z",
     "iopub.status.busy": "2023-09-05T02:33:19.066281Z",
     "iopub.status.idle": "2023-09-05T02:33:19.077994Z",
     "shell.execute_reply": "2023-09-05T02:33:19.076700Z",
     "shell.execute_reply.started": "2023-09-05T02:33:19.066836Z"
    },
    "slideshow": {
     "slide_type": ""
    },
    "tags": [
     "parameters"
    ]
   },
   "outputs": [],
   "source": [
    "# this cell is tagged `parameters` for `papermill` parameterization\n",
    "site_numbering_map_csv = None\n",
    "func_effects_csv = None\n",
    "spike_escape_csvs = None\n",
    "rbd_escape_csvs = None\n",
    "init_min_func_effect = None\n",
    "init_min_times_seen = None\n",
    "init_floor_at_zero = None\n",
    "init_site_escape_stat = None\n",
    "chart_html = None"
   ]
  },
  {
   "cell_type": "code",
   "execution_count": 2,
   "id": "654d0086-e950-433b-a943-51c6bc60d56f",
   "metadata": {
    "execution": {
     "iopub.execute_input": "2023-09-05T02:33:19.084864Z",
     "iopub.status.busy": "2023-09-05T02:33:19.084531Z",
     "iopub.status.idle": "2023-09-05T02:33:19.091458Z",
     "shell.execute_reply": "2023-09-05T02:33:19.090681Z",
     "shell.execute_reply.started": "2023-09-05T02:33:19.084838Z"
    },
    "papermill": {
     "duration": 0.016256,
     "end_time": "2023-09-05T02:32:21.219563",
     "exception": false,
     "start_time": "2023-09-05T02:32:21.203307",
     "status": "completed"
    },
    "tags": [
     "injected-parameters"
    ]
   },
   "outputs": [],
   "source": [
    "# Parameters\n",
    "init_min_func_effect = -2\n",
    "init_min_times_seen = 3\n",
    "init_floor_at_zero = False\n",
    "init_site_escape_stat = \"sum\"\n",
    "spike_escape_csvs = [\n",
    "    \"results/antibody_escape/averages/sera_493C_highACE2_mut_effect.csv\",\n",
    "    \"results/antibody_escape/averages/sera_498C_highACE2_mut_effect.csv\",\n",
    "    \"results/antibody_escape/averages/sera_500C_highACE2_mut_effect.csv\",\n",
    "    \"results/antibody_escape/averages/sera_503C_highACE2_mut_effect.csv\",\n",
    "    \"results/antibody_escape/averages/sera_493C_mediumACE2_mut_effect.csv\",\n",
    "    \"results/antibody_escape/averages/sera_498C_mediumACE2_mut_effect.csv\",\n",
    "    \"results/antibody_escape/averages/sera_500C_mediumACE2_mut_effect.csv\",\n",
    "    \"results/antibody_escape/averages/sera_501C_mediumACE2_mut_effect.csv\",\n",
    "    \"results/antibody_escape/averages/sera_503C_mediumACE2_mut_effect.csv\",\n",
    "    \"results/antibody_escape/averages/sera_287C_mediumACE2_mut_effect.csv\",\n",
    "    \"results/antibody_escape/averages/sera_288C_mediumACE2_mut_effect.csv\",\n",
    "    \"results/antibody_escape/averages/sera_343C_mediumACE2_mut_effect.csv\",\n",
    "    \"results/antibody_escape/averages/sera_497C_mediumACE2_mut_effect.csv\",\n",
    "    \"results/antibody_escape/averages/sera_505C_mediumACE2_mut_effect.csv\",\n",
    "]\n",
    "rbd_escape_csvs = [\n",
    "    \"https://raw.githubusercontent.com/dms-vep/SARS-CoV-2_XBB.1.5_RBD_DMS/main/results/antibody_escape/averages/sera_493C_mediumACE2_mut_effect.csv\",\n",
    "    \"https://raw.githubusercontent.com/dms-vep/SARS-CoV-2_XBB.1.5_RBD_DMS/main/results/antibody_escape/averages/sera_498C_mediumACE2_mut_effect.csv\",\n",
    "    \"https://raw.githubusercontent.com/dms-vep/SARS-CoV-2_XBB.1.5_RBD_DMS/main/results/antibody_escape/averages/sera_500C_mediumACE2_mut_effect.csv\",\n",
    "    \"https://raw.githubusercontent.com/dms-vep/SARS-CoV-2_XBB.1.5_RBD_DMS/main/results/antibody_escape/averages/sera_503C_mediumACE2_mut_effect.csv\",\n",
    "    \"https://raw.githubusercontent.com/dms-vep/SARS-CoV-2_XBB.1.5_RBD_DMS/main/results/antibody_escape/averages/sera_343C_mediumACE2_mut_effect.csv\",\n",
    "]\n",
    "site_numbering_map_csv = \"data/site_numbering_map.csv\"\n",
    "func_effects_csv = \"results/func_effects/averages/293T_high_ACE2_entry_func_effects.csv\"\n",
    "\n",
    "import os\n",
    "os.chdir(\"../\")"
   ]
  },
  {
   "cell_type": "markdown",
   "id": "544d4a3a-3b1a-4d96-b582-fa3e91b5286b",
   "metadata": {
    "editable": true,
    "slideshow": {
     "slide_type": ""
    },
    "tags": []
   },
   "source": [
    "Import Python modules:"
   ]
  },
  {
   "cell_type": "code",
   "execution_count": 3,
   "id": "d1008240-e558-4b0d-9271-aa7a4d1972c0",
   "metadata": {
    "editable": true,
    "execution": {
     "iopub.execute_input": "2023-09-05T02:33:19.095651Z",
     "iopub.status.busy": "2023-09-05T02:33:19.095236Z",
     "iopub.status.idle": "2023-09-05T02:33:20.627157Z",
     "shell.execute_reply": "2023-09-05T02:33:20.625923Z",
     "shell.execute_reply.started": "2023-09-05T02:33:19.095614Z"
    },
    "slideshow": {
     "slide_type": ""
    },
    "tags": []
   },
   "outputs": [],
   "source": [
    "import collections\n",
    "import os\n",
    "import re\n",
    "\n",
    "import altair as alt\n",
    "\n",
    "import pandas as pd\n",
    "\n",
    "_ = alt.data_transformers.disable_max_rows()"
   ]
  },
  {
   "cell_type": "markdown",
   "id": "ac4513e6-efeb-4766-a4f2-e9b7be310720",
   "metadata": {
    "editable": true,
    "slideshow": {
     "slide_type": ""
    },
    "tags": []
   },
   "source": [
    "## Read in the data\n"
   ]
  },
  {
   "cell_type": "code",
   "execution_count": 8,
   "id": "c9749e82-057e-475b-9461-c4bd93bc21d7",
   "metadata": {
    "execution": {
     "iopub.execute_input": "2023-09-05T02:38:38.432462Z",
     "iopub.status.busy": "2023-09-05T02:38:38.431680Z",
     "iopub.status.idle": "2023-09-05T02:38:39.775492Z",
     "shell.execute_reply": "2023-09-05T02:38:39.774911Z",
     "shell.execute_reply.started": "2023-09-05T02:38:38.432421Z"
    }
   },
   "outputs": [
    {
     "name": "stdout",
     "output_type": "stream",
     "text": [
      "Serum 493C has matches in both library types\n",
      "Serum 498C has matches in both library types\n",
      "Serum 500C has matches in both library types\n",
      "Serum 503C has matches in both library types\n",
      "Serum 343C has matches in both library types\n"
     ]
    },
    {
     "data": {
      "text/html": [
       "<div>\n",
       "<style scoped>\n",
       "    .dataframe tbody tr th:only-of-type {\n",
       "        vertical-align: middle;\n",
       "    }\n",
       "\n",
       "    .dataframe tbody tr th {\n",
       "        vertical-align: top;\n",
       "    }\n",
       "\n",
       "    .dataframe thead th {\n",
       "        text-align: right;\n",
       "    }\n",
       "</style>\n",
       "<table border=\"1\" class=\"dataframe\">\n",
       "  <thead>\n",
       "    <tr style=\"text-align: right;\">\n",
       "      <th></th>\n",
       "      <th>serum</th>\n",
       "      <th>library_type</th>\n",
       "      <th>site</th>\n",
       "      <th>wildtype</th>\n",
       "      <th>mutant</th>\n",
       "      <th>escape</th>\n",
       "      <th>times_seen</th>\n",
       "      <th>sequential_site</th>\n",
       "      <th>effect</th>\n",
       "    </tr>\n",
       "  </thead>\n",
       "  <tbody>\n",
       "    <tr>\n",
       "      <th>0</th>\n",
       "      <td>serum 493C</td>\n",
       "      <td>full_spike</td>\n",
       "      <td>1</td>\n",
       "      <td>M</td>\n",
       "      <td>I</td>\n",
       "      <td>-1.599000</td>\n",
       "      <td>1.3330</td>\n",
       "      <td>1</td>\n",
       "      <td>-6.3230</td>\n",
       "    </tr>\n",
       "    <tr>\n",
       "      <th>1</th>\n",
       "      <td>serum 498C</td>\n",
       "      <td>full_spike</td>\n",
       "      <td>1</td>\n",
       "      <td>M</td>\n",
       "      <td>I</td>\n",
       "      <td>-1.803000</td>\n",
       "      <td>1.0000</td>\n",
       "      <td>1</td>\n",
       "      <td>-6.3230</td>\n",
       "    </tr>\n",
       "    <tr>\n",
       "      <th>2</th>\n",
       "      <td>serum 500C</td>\n",
       "      <td>full_spike</td>\n",
       "      <td>1</td>\n",
       "      <td>M</td>\n",
       "      <td>I</td>\n",
       "      <td>-0.797300</td>\n",
       "      <td>1.0000</td>\n",
       "      <td>1</td>\n",
       "      <td>-6.3230</td>\n",
       "    </tr>\n",
       "    <tr>\n",
       "      <th>3</th>\n",
       "      <td>serum 503C</td>\n",
       "      <td>full_spike</td>\n",
       "      <td>1</td>\n",
       "      <td>M</td>\n",
       "      <td>I</td>\n",
       "      <td>-0.976000</td>\n",
       "      <td>1.0000</td>\n",
       "      <td>1</td>\n",
       "      <td>-6.3230</td>\n",
       "    </tr>\n",
       "    <tr>\n",
       "      <th>4</th>\n",
       "      <td>serum 343C</td>\n",
       "      <td>full_spike</td>\n",
       "      <td>1</td>\n",
       "      <td>M</td>\n",
       "      <td>I</td>\n",
       "      <td>-2.059000</td>\n",
       "      <td>1.0000</td>\n",
       "      <td>1</td>\n",
       "      <td>-6.3230</td>\n",
       "    </tr>\n",
       "    <tr>\n",
       "      <th>...</th>\n",
       "      <td>...</td>\n",
       "      <td>...</td>\n",
       "      <td>...</td>\n",
       "      <td>...</td>\n",
       "      <td>...</td>\n",
       "      <td>...</td>\n",
       "      <td>...</td>\n",
       "      <td>...</td>\n",
       "      <td>...</td>\n",
       "    </tr>\n",
       "    <tr>\n",
       "      <th>48518</th>\n",
       "      <td>serum 503C</td>\n",
       "      <td>full_spike</td>\n",
       "      <td>928</td>\n",
       "      <td>N</td>\n",
       "      <td>D</td>\n",
       "      <td>0.001228</td>\n",
       "      <td>0.3333</td>\n",
       "      <td>924</td>\n",
       "      <td>-1.6600</td>\n",
       "    </tr>\n",
       "    <tr>\n",
       "      <th>48519</th>\n",
       "      <td>serum 343C</td>\n",
       "      <td>full_spike</td>\n",
       "      <td>928</td>\n",
       "      <td>N</td>\n",
       "      <td>K</td>\n",
       "      <td>-0.005277</td>\n",
       "      <td>2.1670</td>\n",
       "      <td>924</td>\n",
       "      <td>-6.4660</td>\n",
       "    </tr>\n",
       "    <tr>\n",
       "      <th>48520</th>\n",
       "      <td>serum 343C</td>\n",
       "      <td>full_spike</td>\n",
       "      <td>928</td>\n",
       "      <td>N</td>\n",
       "      <td>-</td>\n",
       "      <td>0.000471</td>\n",
       "      <td>0.3333</td>\n",
       "      <td>924</td>\n",
       "      <td>0.1183</td>\n",
       "    </tr>\n",
       "    <tr>\n",
       "      <th>48521</th>\n",
       "      <td>serum 343C</td>\n",
       "      <td>full_spike</td>\n",
       "      <td>665</td>\n",
       "      <td>P</td>\n",
       "      <td>L</td>\n",
       "      <td>-0.029230</td>\n",
       "      <td>1.0000</td>\n",
       "      <td>661</td>\n",
       "      <td>-3.1490</td>\n",
       "    </tr>\n",
       "    <tr>\n",
       "      <th>48522</th>\n",
       "      <td>serum 343C</td>\n",
       "      <td>full_spike</td>\n",
       "      <td>665</td>\n",
       "      <td>P</td>\n",
       "      <td>S</td>\n",
       "      <td>0.013790</td>\n",
       "      <td>0.8333</td>\n",
       "      <td>661</td>\n",
       "      <td>-3.9930</td>\n",
       "    </tr>\n",
       "  </tbody>\n",
       "</table>\n",
       "<p>48523 rows × 9 columns</p>\n",
       "</div>"
      ],
      "text/plain": [
       "            serum library_type  site wildtype mutant    escape  times_seen  \\\n",
       "0      serum 493C   full_spike     1        M      I -1.599000      1.3330   \n",
       "1      serum 498C   full_spike     1        M      I -1.803000      1.0000   \n",
       "2      serum 500C   full_spike     1        M      I -0.797300      1.0000   \n",
       "3      serum 503C   full_spike     1        M      I -0.976000      1.0000   \n",
       "4      serum 343C   full_spike     1        M      I -2.059000      1.0000   \n",
       "...           ...          ...   ...      ...    ...       ...         ...   \n",
       "48518  serum 503C   full_spike   928        N      D  0.001228      0.3333   \n",
       "48519  serum 343C   full_spike   928        N      K -0.005277      2.1670   \n",
       "48520  serum 343C   full_spike   928        N      -  0.000471      0.3333   \n",
       "48521  serum 343C   full_spike   665        P      L -0.029230      1.0000   \n",
       "48522  serum 343C   full_spike   665        P      S  0.013790      0.8333   \n",
       "\n",
       "       sequential_site  effect  \n",
       "0                    1 -6.3230  \n",
       "1                    1 -6.3230  \n",
       "2                    1 -6.3230  \n",
       "3                    1 -6.3230  \n",
       "4                    1 -6.3230  \n",
       "...                ...     ...  \n",
       "48518              924 -1.6600  \n",
       "48519              924 -6.4660  \n",
       "48520              924  0.1183  \n",
       "48521              661 -3.1490  \n",
       "48522              661 -3.9930  \n",
       "\n",
       "[48523 rows x 9 columns]"
      ]
     },
     "execution_count": 8,
     "metadata": {},
     "output_type": "execute_result"
    }
   ],
   "source": [
    "escape = []\n",
    "for spike_escape_csv in spike_escape_csvs:\n",
    "    if m := re.match(\n",
    "        \"sera_(?P<serum>[\\dA-z]+)_mediumACE2\",\n",
    "        os.path.basename(spike_escape_csv),\n",
    "    ):\n",
    "        serum = m.group(\"serum\")\n",
    "        for rbd_escape_csv in rbd_escape_csvs:\n",
    "            if os.path.basename(rbd_escape_csv).startswith(f\"sera_{serum}_mediumACE2\"):\n",
    "                print(f\"Serum {serum} has matches in both library types\")\n",
    "                escape += [\n",
    "                    pd.read_csv(f).assign(serum=\"serum \" + serum, library_type=libtype)\n",
    "                    for (f, libtype) in [\n",
    "                        (spike_escape_csv, \"full_spike\"), (rbd_escape_csv, \"RBD only\")\n",
    "                    ]\n",
    "                ]\n",
    "\n",
    "escape = (\n",
    "    pd.concat(escape, ignore_index=True)\n",
    "    .rename(columns={\"escape_median\": \"escape\"})\n",
    "    [[\"epitope\", \"serum\", \"library_type\", \"site\", \"wildtype\", \"mutant\", \"escape\", \"times_seen\"]]\n",
    "    .merge(\n",
    "        pd.read_csv(site_numbering_map_csv)\n",
    "        .rename(columns={\"reference_site\": \"site\"})\n",
    "        [[\"site\", \"sequential_site\"]],\n",
    "        validate=\"many_to_one\",\n",
    "    )\n",
    "    .merge(\n",
    "        pd.read_csv(func_effects_csv)[[\"site\", \"mutant\", \"effect\"]],\n",
    "        validate=\"many_to_one\",\n",
    "    )\n",
    ")\n",
    "\n",
    "assert escape[\"epitope\"].nunique() == 1, \"code only works for one epitope\"\n",
    "escape = escape.drop(columns=\"epitope\")\n",
    "\n",
    "assert escape[\"escape\"].notnull().all()\n",
    "\n",
    "escape"
   ]
  },
  {
   "cell_type": "code",
   "execution_count": null,
   "id": "d585a36f-f32c-418d-8982-c9b44f183752",
   "metadata": {},
   "outputs": [],
   "source": []
  }
 ],
 "metadata": {
  "kernelspec": {
   "display_name": "Python 3 (ipykernel)",
   "language": "python",
   "name": "python3"
  },
  "language_info": {
   "codemirror_mode": {
    "name": "ipython",
    "version": 3
   },
   "file_extension": ".py",
   "mimetype": "text/x-python",
   "name": "python",
   "nbconvert_exporter": "python",
   "pygments_lexer": "ipython3",
   "version": "3.11.4"
  }
 },
 "nbformat": 4,
 "nbformat_minor": 5
}
