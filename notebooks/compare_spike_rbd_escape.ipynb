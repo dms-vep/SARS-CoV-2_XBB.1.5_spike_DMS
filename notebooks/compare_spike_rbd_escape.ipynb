{
 "cells": [
  {
   "cell_type": "markdown",
   "id": "1cc7b979-9554-4c27-b3ec-e9dc4af14fb8",
   "metadata": {
    "editable": true,
    "slideshow": {
     "slide_type": ""
    },
    "tags": []
   },
   "source": [
    "# Compare escape in spike and RBD deep mutational scans\n",
    "Compare antibody-escape in spike and RBD deep mutational scanning libraries:"
   ]
  },
  {
   "cell_type": "code",
   "execution_count": null,
   "id": "5871de92-aa30-40b0-98e0-3e33ecc08af2",
   "metadata": {
    "editable": true,
    "slideshow": {
     "slide_type": ""
    },
    "tags": [
     "parameters"
    ]
   },
   "outputs": [],
   "source": [
    "# this cell is tagged `parameters` for `papermill` parameterization\n",
    "site_numbering_map_csv = None\n",
    "func_effects_csv = None\n",
    "spike_escape_csvs = None\n",
    "rbd_escape_csvs = None\n",
    "init_min_func_effect = None\n",
    "init_min_times_seen = None\n",
    "init_floor_at_zero = None\n",
    "init_site_escape_stat = None\n",
    "chart_html = None"
   ]
  },
  {
   "cell_type": "code",
   "execution_count": 2,
   "id": "93e4245d-b18d-4f8a-925a-ea7f1dd04949",
   "metadata": {
    "execution": {
     "iopub.execute_input": "2023-09-05T02:06:57.385548Z",
     "iopub.status.busy": "2023-09-05T02:06:57.385055Z",
     "iopub.status.idle": "2023-09-05T02:06:57.392341Z",
     "shell.execute_reply": "2023-09-05T02:06:57.391457Z"
    },
    "papermill": {
     "duration": 0.017961,
     "end_time": "2023-09-05T02:06:57.394574",
     "exception": false,
     "start_time": "2023-09-05T02:06:57.376613",
     "status": "completed"
    },
    "tags": [
     "injected-parameters"
    ]
   },
   "outputs": [],
   "source": [
    "# Parameters\n",
    "init_min_func_effect = -2\n",
    "init_min_times_seen = 3\n",
    "init_floor_at_zero = False\n",
    "init_site_escape_stat = \"sum\"\n",
    "spike_escape_csvs = [\n",
    "    \"results/antibody_escape/averages/sera_493C_highACE2_mut_effect.csv\",\n",
    "    \"results/antibody_escape/averages/sera_498C_highACE2_mut_effect.csv\",\n",
    "    \"results/antibody_escape/averages/sera_500C_highACE2_mut_effect.csv\",\n",
    "    \"results/antibody_escape/averages/sera_503C_highACE2_mut_effect.csv\",\n",
    "    \"results/antibody_escape/averages/sera_493C_mediumACE2_mut_effect.csv\",\n",
    "    \"results/antibody_escape/averages/sera_498C_mediumACE2_mut_effect.csv\",\n",
    "    \"results/antibody_escape/averages/sera_500C_mediumACE2_mut_effect.csv\",\n",
    "    \"results/antibody_escape/averages/sera_501C_mediumACE2_mut_effect.csv\",\n",
    "    \"results/antibody_escape/averages/sera_503C_mediumACE2_mut_effect.csv\",\n",
    "    \"results/antibody_escape/averages/sera_287C_mediumACE2_mut_effect.csv\",\n",
    "    \"results/antibody_escape/averages/sera_288C_mediumACE2_mut_effect.csv\",\n",
    "    \"results/antibody_escape/averages/sera_343C_mediumACE2_mut_effect.csv\",\n",
    "    \"results/antibody_escape/averages/sera_497C_mediumACE2_mut_effect.csv\",\n",
    "    \"results/antibody_escape/averages/sera_505C_mediumACE2_mut_effect.csv\",\n",
    "]\n",
    "rbd_escape_csvs = [\n",
    "    \"/blob/main/results/antibody_escape/averages/sera_493C_mediumACE2_mut_effect.csv\",\n",
    "    \"/blob/main/results/antibody_escape/averages/sera_498C_mediumACE2_mut_effect.csv\",\n",
    "    \"/blob/main/results/antibody_escape/averages/sera_500C_mediumACE2_mut_effect.csv\",\n",
    "    \"/blob/main/results/antibody_escape/averages/sera_503C_mediumACE2_mut_effect.csv\",\n",
    "    \"/blob/main/results/antibody_escape/averages/sera_343C_mediumACE2_mut_effect.csv\",\n",
    "]\n",
    "site_numbering_map_csv = \"data/site_numbering_map.csv\"\n",
    "func_effects_csv = \"results/func_effects/averages/293T_high_ACE2_entry_func_effects.csv\"\n",
    "\n",
    "import os\n",
    "os.chdir(\"../test_example\")"
   ]
  },
  {
   "cell_type": "markdown",
   "id": "544d4a3a-3b1a-4d96-b582-fa3e91b5286b",
   "metadata": {
    "editable": true,
    "slideshow": {
     "slide_type": ""
    },
    "tags": []
   },
   "source": [
    "Import Python modules:"
   ]
  },
  {
   "cell_type": "code",
   "execution_count": null,
   "id": "d1008240-e558-4b0d-9271-aa7a4d1972c0",
   "metadata": {
    "editable": true,
    "slideshow": {
     "slide_type": ""
    },
    "tags": []
   },
   "outputs": [],
   "source": [
    "import collections\n",
    "import os\n",
    "import re\n",
    "\n",
    "import altair as alt\n",
    "\n",
    "import pandas as pd\n",
    "\n",
    "_ = alt.data_transformers.disable_max_rows()"
   ]
  },
  {
   "cell_type": "markdown",
   "id": "92125688-6d2c-4630-803b-17698cd905a4",
   "metadata": {
    "editable": true,
    "slideshow": {
     "slide_type": ""
    },
    "tags": []
   },
   "source": [
    "## Read in the data"
   ]
  }
 ],
 "metadata": {
  "kernelspec": {
   "display_name": "Python 3 (ipykernel)",
   "language": "python",
   "name": "python3"
  },
  "language_info": {
   "codemirror_mode": {
    "name": "ipython",
    "version": 3
   },
   "file_extension": ".py",
   "mimetype": "text/x-python",
   "name": "python",
   "nbconvert_exporter": "python",
   "pygments_lexer": "ipython3",
   "version": "3.11.4"
  }
 },
 "nbformat": 4,
 "nbformat_minor": 5
}
