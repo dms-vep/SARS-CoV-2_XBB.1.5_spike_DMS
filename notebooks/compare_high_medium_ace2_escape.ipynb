{
 "cells": [
  {
   "cell_type": "markdown",
   "id": "e1c9e0e0-d3a2-40c0-9e68-b299baf1e246",
   "metadata": {},
   "source": [
    "# Compare escape in high and medium ACE2 cells"
   ]
  },
  {
   "cell_type": "code",
   "execution_count": null,
   "id": "b36bd819-47d9-49d9-b307-36ccc8635c97",
   "metadata": {
    "editable": true,
    "slideshow": {
     "slide_type": ""
    },
    "tags": [
     "parameters"
    ]
   },
   "outputs": [],
   "source": [
    "# this cell is tagged `parameters` for `papermill` parameterization\n",
    "site_numbering_map_csv = None\n",
    "func_effects_csv = None\n",
    "escape_csvs = None\n",
    "init_min_func_effect = None\n",
    "init_min_times_seen = None"
   ]
  },
  {
   "cell_type": "code",
   "execution_count": 2,
   "id": "e726cc20-f078-4683-9f6d-f130f60ecaba",
   "metadata": {
    "editable": true,
    "execution": {
     "iopub.execute_input": "2023-09-01T23:20:07.723860Z",
     "iopub.status.busy": "2023-09-01T23:20:07.723269Z",
     "iopub.status.idle": "2023-09-01T23:20:07.729738Z",
     "shell.execute_reply": "2023-09-01T23:20:07.728869Z"
    },
    "papermill": {
     "duration": 0.015854,
     "end_time": "2023-09-01T23:20:07.731820",
     "exception": false,
     "start_time": "2023-09-01T23:20:07.715966",
     "status": "completed"
    },
    "slideshow": {
     "slide_type": ""
    },
    "tags": [
     "injected-parameters"
    ]
   },
   "outputs": [],
   "source": [
    "# Parameters\n",
    "init_min_func_effect = -2\n",
    "init_min_times_seen = 3\n",
    "escape_csvs = [\n",
    "    \"results/antibody_escape/averages/sera_493C_highACE2_mut_effect.csv\",\n",
    "    \"results/antibody_escape/averages/sera_498C_highACE2_mut_effect.csv\",\n",
    "    \"results/antibody_escape/averages/sera_500C_highACE2_mut_effect.csv\",\n",
    "    \"results/antibody_escape/averages/sera_503C_highACE2_mut_effect.csv\",\n",
    "    \"results/antibody_escape/averages/sera_493C_mediumACE2_mut_effect.csv\",\n",
    "    \"results/antibody_escape/averages/sera_498C_mediumACE2_mut_effect.csv\",\n",
    "    \"results/antibody_escape/averages/sera_500C_mediumACE2_mut_effect.csv\",\n",
    "    \"results/antibody_escape/averages/sera_501C_mediumACE2_mut_effect.csv\",\n",
    "    \"results/antibody_escape/averages/sera_503C_mediumACE2_mut_effect.csv\",\n",
    "    \"results/antibody_escape/averages/sera_287C_mediumACE2_mut_effect.csv\",\n",
    "    \"results/antibody_escape/averages/sera_288C_mediumACE2_mut_effect.csv\",\n",
    "    \"results/antibody_escape/averages/sera_343C_mediumACE2_mut_effect.csv\",\n",
    "    \"results/antibody_escape/averages/sera_497C_mediumACE2_mut_effect.csv\",\n",
    "    \"results/antibody_escape/averages/sera_505C_mediumACE2_mut_effect.csv\",\n",
    "]\n",
    "site_numbering_map_csv = \"data/site_numbering_map.csv\"\n",
    "func_effects_csv = \"results/func_effects/averages/293T_high_ACE2_entry_func_effects.csv\"\n"
   ]
  }
 ],
 "metadata": {
  "kernelspec": {
   "display_name": "Python 3 (ipykernel)",
   "language": "python",
   "name": "python3"
  },
  "language_info": {
   "codemirror_mode": {
    "name": "ipython",
    "version": 3
   },
   "file_extension": ".py",
   "mimetype": "text/x-python",
   "name": "python",
   "nbconvert_exporter": "python",
   "pygments_lexer": "ipython3",
   "version": "3.11.4"
  }
 },
 "nbformat": 4,
 "nbformat_minor": 5
}
