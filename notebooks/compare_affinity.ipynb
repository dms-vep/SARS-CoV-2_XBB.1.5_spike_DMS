{
 "cells": [
  {
   "cell_type": "markdown",
   "id": "7f8ae650-5dae-4b64-bfa9-9eb51f0d9959",
   "metadata": {
    "editable": true,
    "slideshow": {
     "slide_type": ""
    },
    "tags": []
   },
   "source": [
    "# Compare ACE2 affinity across different experiments"
   ]
  },
  {
   "cell_type": "code",
   "execution_count": null,
   "id": "3562016b-f3de-4a33-ac01-449a2b8b9110",
   "metadata": {
    "editable": true,
    "slideshow": {
     "slide_type": ""
    },
    "tags": [
     "parameters"
    ]
   },
   "outputs": [],
   "source": [
    "# this cell is tagged as `parameters` for papermill parameterization\n",
    "xbb_spike_affinity = None\n",
    "xbb_spike_func_effects = None\n",
    "xbb_spike_escape = None\n",
    "\n",
    "starr_rbd_affinity = None\n",
    "\n",
    "ba2_spike_affinity = None\n",
    "ba2_spike_func_effects = None\n",
    "\n",
    "xbb_rbd_affinity_monomeric = None\n",
    "xbb_rbd_affinity_dimeric = None\n",
    "xbb_rbd_func_effects = None"
   ]
  },
  {
   "cell_type": "code",
   "execution_count": 2,
   "id": "3f74932f-c55c-4ca1-a7c5-a12ab31bf906",
   "metadata": {
    "editable": true,
    "execution": {
     "iopub.execute_input": "2023-08-31T02:07:21.039256Z",
     "iopub.status.busy": "2023-08-31T02:07:21.038810Z",
     "iopub.status.idle": "2023-08-31T02:07:21.045232Z",
     "shell.execute_reply": "2023-08-31T02:07:21.044290Z"
    },
    "papermill": {
     "duration": 0.013354,
     "end_time": "2023-08-31T02:07:21.047261",
     "exception": false,
     "start_time": "2023-08-31T02:07:21.033907",
     "status": "completed"
    },
    "slideshow": {
     "slide_type": ""
    },
    "tags": [
     "injected-parameters"
    ]
   },
   "outputs": [],
   "source": [
    "# Parameters\n",
    "starr_rbd_affinity = \"https://media.githubusercontent.com/media/tstarrlab/SARS-CoV-2-RBD_DMS_Omicron-XBB-BQ/main/results/final_variant_scores/final_variant_scores.csv\"\n",
    "xbb_spike_affinity = \"results/receptor_affinity/averages/monomeric_ACE2_mut_effect.csv\"\n",
    "xbb_spike_func_effects = (\n",
    "    \"results/func_effects/averages/293T_high_ACE2_entry_func_effects.csv\"\n",
    ")\n",
    "xbb_spike_escape = \"results/summaries/summary.csv\"\n",
    "ba2_spike_affinity = \"../SARS-CoV-2_Omicron_BA.2_spike_ACE2_affinity/results/receptor_affinity/averages/monomeric_ACE2_mut_effect.csv\"\n",
    "ba2_spike_func_effects = \"../SARS-CoV-2_Omicron_BA.2_spike_ACE2_affinity/results/func_effects/averages/293T_high_ACE2_entry_func_effects.csv\"\n",
    "xbb_rbd_affinity_monomeric = \"../SARS-CoV-2_XBB.1.5_RBD_DMS/results/receptor_affinity/averages/monomeric_ACE2_mut_effect.csv\"\n",
    "xbb_rbd_affinity_dimeric = \"../SARS-CoV-2_XBB.1.5_RBD_DMS/results/receptor_affinity/averages/dimeric_ACE2_mut_effect.csv\"\n",
    "xbb_rbd_func_effects = \"../SARS-CoV-2_XBB.1.5_RBD_DMS/results/func_effects/averages/293T_high_ACE2_entry_func_effects.csv\"\n",
    "min_times_seen = 3\n"
   ]
  }
 ],
 "metadata": {
  "kernelspec": {
   "display_name": "Python 3 (ipykernel)",
   "language": "python",
   "name": "python3"
  },
  "language_info": {
   "codemirror_mode": {
    "name": "ipython",
    "version": 3
   },
   "file_extension": ".py",
   "mimetype": "text/x-python",
   "name": "python",
   "nbconvert_exporter": "python",
   "pygments_lexer": "ipython3",
   "version": "3.11.4"
  }
 },
 "nbformat": 4,
 "nbformat_minor": 5
}
