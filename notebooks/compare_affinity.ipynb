{
 "cells": [
  {
   "cell_type": "markdown",
   "id": "7f8ae650-5dae-4b64-bfa9-9eb51f0d9959",
   "metadata": {
    "editable": true,
    "slideshow": {
     "slide_type": ""
    },
    "tags": []
   },
   "source": [
    "# Compare ACE2 affinity across different experiments\n",
    "\n",
    "First, get parameters specifying data to analyze:"
   ]
  },
  {
   "cell_type": "code",
   "execution_count": null,
   "id": "3562016b-f3de-4a33-ac01-449a2b8b9110",
   "metadata": {
    "editable": true,
    "slideshow": {
     "slide_type": ""
    },
    "tags": [
     "parameters"
    ]
   },
   "outputs": [],
   "source": [
    "# this cell is tagged as `parameters` for papermill parameterization\n",
    "xbb_spike_affinity = None\n",
    "xbb_spike_func_effects = None\n",
    "xbb_spike_escape = None\n",
    "\n",
    "starr_rbd_affinity = None\n",
    "\n",
    "ba2_spike_affinity = None\n",
    "ba2_spike_func_effects = None\n",
    "\n",
    "xbb_rbd_affinity_monomeric = None\n",
    "xbb_rbd_affinity_dimeric = None\n",
    "xbb_rbd_func_effects = None\n",
    "\n",
    "merged_affinity_csv = None"
   ]
  },
  {
   "cell_type": "code",
   "execution_count": null,
   "id": "d57a2469-4aff-4c58-866f-95a56d9a25d5",
   "metadata": {},
   "outputs": [],
   "source": [
    "import os\n",
    "\n",
    "import altair as alt\n",
    "\n",
    "import pandas as pd"
   ]
  },
  {
   "cell_type": "markdown",
   "id": "b0f29474-bac7-41c5-b077-5b6b23fb955f",
   "metadata": {},
   "source": [
    "## Read the data sets"
   ]
  },
  {
   "cell_type": "code",
   "execution_count": null,
   "id": "038dcc1d-5f94-4608-bf69-cae8e2db169d",
   "metadata": {},
   "outputs": [],
   "source": [
    "xbb_spike = pd.read_csv(xbb_spike_csv).assign(\n",
    "    experiment=\"XBB.1.5 full spike pseudovirus\",\n",
    "    ACE2_type=\"monomeric\",\n",
    ")\n",
    "\n",
    "ba2_spike = pd.read_csv(ba2_spike_csv).assign(\n",
    "    experiment=\"BA.2 full spike pseudovirus\",\n",
    "    ACE2_type=\"monomeric\",\n",
    ")\n",
    "\n",
    "xbb_rbd = (\n",
    "    pd.read_csv(xbb_rbd_csv)\n",
    "    .rename(\n",
    "        columns={\n",
    "            f\"{ace2_type} ACE2 affinity\": ace2_type\n",
    "            for ace2_type in [\"monomeric\", \"dimeric\"]\n",
    "        }\n",
    "    )\n",
    "    .melt(\n",
    "        id_vars=[\"site\", \"wildtype\", \"mutant\", \"spike mediated entry\", \"sequential_site\", \"region\"],\n",
    "        var_name=\"ACE2_type\",\n",
    "        value_name=\"ACE2 affinity\",\n",
    "        value_vars=[\"monomeric\", \"dimeric\"],\n",
    "    )\n",
    "    .assign(experiment=\"XBB.1.5 RBD pseudovirus\")\n",
    ")\n",
    "\n",
    "starr_rbd = (\n",
    "    pd.read_csv(starr_rbd_affinity)\n",
    "    .rename(columns={\"position\": \"site\", \"delta_bind\": \"ACE2 affinity\", \"target\": \"experiment\"})\n",
    "    .query(\"experiment in ['Omicron_BA2', 'Omicron_XBB15']\")\n",
    "    .assign(\n",
    "        experiment=lambda x: x[\"experiment\"].map(\n",
    "            {\n",
    "                \"Omicron_BA2\": \"BA.2 RBD yeast display\",\n",
    "                \"Omicron_XBB15\": \"XBB.1.5 RBD yeast display\",\n",
    "            }\n",
    "        )\n",
    "    )\n",
    "    .assign(ACE2_type=\"monomeric\", region=\"RBD\")\n",
    "    [[\"site\", \"wildtype\", \"mutant\", \"ACE2 affinity\", \"region\", \"experiment\", \"ACE2_type\"]]\n",
    ")\n",
    "\n",
    "merged_affinity_data = pd.concat([xbb_spike, ba2_spike, xbb_rbd, starr_rbd], ignore_index=True)\n",
    "\n",
    "print(f\"Writing the merged affinity data to {merged_affinity_csv}\")\n",
    "os.makedirs(os.path.dirname(merged_affinity_csv), exist_ok=True)\n",
    "merged_affinity_data.to_csv(merged_affinity_csv, float_format=\"%.4f\", index=False)"
   ]
  },
  {
   "cell_type": "code",
   "execution_count": null,
   "id": "e5c07b8a-614a-43d5-99d4-9068df4eba30",
   "metadata": {},
   "outputs": [],
   "source": []
  }
 ],
 "metadata": {
  "kernelspec": {
   "display_name": "Python 3 (ipykernel)",
   "language": "python",
   "name": "python3"
  },
  "language_info": {
   "codemirror_mode": {
    "name": "ipython",
    "version": 3
   },
   "file_extension": ".py",
   "mimetype": "text/x-python",
   "name": "python",
   "nbconvert_exporter": "python",
   "pygments_lexer": "ipython3",
   "version": "3.11.4"
  }
 },
 "nbformat": 4,
 "nbformat_minor": 5
}
