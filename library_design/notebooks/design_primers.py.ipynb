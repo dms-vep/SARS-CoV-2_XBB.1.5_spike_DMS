{
 "cells": [
  {
   "cell_type": "markdown",
   "id": "52d21728-7af9-4851-9767-2dca8e9399a2",
   "metadata": {},
   "source": [
    "# Design primers\n",
    "Design the actual primers.\n",
    "\n",
    "Import Python modules:"
   ]
  },
  {
   "cell_type": "code",
   "execution_count": null,
   "id": "6d2ad618-b680-49b0-a8b5-1f6735006666",
   "metadata": {
    "tags": []
   },
   "outputs": [],
   "source": [
    "import os\n",
    "import re\n",
    "\n",
    "import Bio.Seq\n",
    "import Bio.SeqIO\n",
    "from Bio.SeqUtils import MeltingTemp\n",
    "\n",
    "import numpy\n",
    "\n",
    "import pandas as pd\n",
    "\n",
    "import yaml"
   ]
  },
  {
   "cell_type": "markdown",
   "id": "ee2adfb9-b1aa-4410-9727-92062eac276a",
   "metadata": {},
   "source": [
    "Read configuration:"
   ]
  },
  {
   "cell_type": "code",
   "execution_count": null,
   "id": "e864f3e1-bc58-41e6-b367-737eb9af3426",
   "metadata": {
    "tags": []
   },
   "outputs": [],
   "source": [
    "if not os.path.isfile(\"config.yaml\"):\n",
    "    os.chdir(\"../\")  # if running interactively in a subdirectory\n",
    "    \n",
    "with open(\"config.yaml\") as f:\n",
    "    config = yaml.safe_load(f)"
   ]
  },
  {
   "cell_type": "markdown",
   "id": "61a3f625-8a7b-4821-b83a-a11f8698a106",
   "metadata": {},
   "source": [
    "Get the primer specs:"
   ]
  },
  {
   "cell_type": "code",
   "execution_count": null,
   "id": "c86cfcc7-6ff0-45ad-acb2-eb4ca32023ff",
   "metadata": {
    "tags": []
   },
   "outputs": [],
   "source": [
    "targeted_mutations_offsets = config[\"targeted_mutations_offsets\"]\n",
    "saturated_sites_offsets = config[\"saturated_sites_offsets\"]\n",
    "primer_min_tm = config[\"primer_min_tm\"]\n",
    "primer_min_length = config[\"primer_min_length\"]\n",
    "primer_max_length = config[\"primer_max_length\"]\n",
    "\n",
    "print(\n",
    "    f\"{targeted_mutations_offsets=}\\n\"\n",
    "    f\"{saturated_sites_offsets=}\\n\"\n",
    "    f\"{primer_min_tm=}\\n\"\n",
    "    f\"{primer_min_length=}\\n\"\n",
    "    f\"{primer_max_length=}\\n\"\n",
    ")"
   ]
  },
  {
   "cell_type": "markdown",
   "id": "baccbf75-9a4a-4d96-b152-f5468bf9e57f",
   "metadata": {},
   "source": [
    "Read the gene and get the coordinate where the sequence starts:"
   ]
  },
  {
   "cell_type": "code",
   "execution_count": null,
   "id": "a5228e65-3513-41a0-86ac-a0fd94b3ef88",
   "metadata": {
    "tags": []
   },
   "outputs": [],
   "source": [
    "# get upper case portion\n",
    "extended_gene = str(Bio.SeqIO.read(config[\"extended_gene\"], \"fasta\").seq)\n",
    "m = re.fullmatch(\"[acgt]*(?P<gene>[ACGT]+)[acgt]*\", extended_gene)\n",
    "assert m, \"not single upper case gene\"\n",
    "gene_start = m.start(\"gene\")\n",
    "gene = extended_gene[gene_start: m.end(\"gene\")]"
   ]
  },
  {
   "cell_type": "markdown",
   "id": "e19b5caa-f922-4be0-b94e-b6b69d6637f6",
   "metadata": {},
   "source": [
    "Read targeted mutations and sites to saturate:"
   ]
  },
  {
   "cell_type": "code",
   "execution_count": null,
   "id": "acc2a1d7-26a8-449a-a5c4-f9241cbf773a",
   "metadata": {
    "tags": []
   },
   "outputs": [],
   "source": [
    "targeted_mutations = pd.read_csv(config[\"targeted_mutations\"])\n",
    "print(f\"{len(targeted_mutations)=}\")\n",
    "\n",
    "saturated_sites = pd.read_csv(config[\"saturated_sites\"])\n",
    "print(f\"{len(saturated_sites)=}\")"
   ]
  },
  {
   "cell_type": "markdown",
   "id": "5c46fb50-aac8-4193-b57f-2afeea06cb51",
   "metadata": {},
   "source": [
    "Get the most preferred human codon for each amino acid:"
   ]
  },
  {
   "cell_type": "code",
   "execution_count": null,
   "id": "3b130d14-7d88-402f-b9d9-05753d9085f4",
   "metadata": {
    "tags": []
   },
   "outputs": [],
   "source": [
    "aa_to_codon = (\n",
    "    pd.read_csv(config[\"human_codon_freqs\"])\n",
    "    .sort_values(\"frequency\")\n",
    "    .groupby(\"aa\")\n",
    "    .last()\n",
    "    [\"codon\"]\n",
    "    .to_dict()\n",
    ")\n",
    "\n",
    "aa_to_codon[\"-\"] = \"---\""
   ]
  },
  {
   "cell_type": "markdown",
   "id": "de3dbc90-4733-4d65-a20c-785b377b6e38",
   "metadata": {},
   "source": [
    "Define function to design primers:"
   ]
  },
  {
   "cell_type": "code",
   "execution_count": null,
   "id": "e750870f-44a8-4e77-9915-4a7468872658",
   "metadata": {
    "tags": []
   },
   "outputs": [],
   "source": [
    "def design_primer(\n",
    "    residue,\n",
    "    mutant_codon,\n",
    "    min_tm,\n",
    "    min_length,\n",
    "    max_length,\n",
    "    offset,\n",
    "    extended_gene,\n",
    "    gene_start,\n",
    "):\n",
    "    assert len(mutant_codon) == 3\n",
    "    extended_start = 3 * (residue - 1) + gene_start\n",
    "    \n",
    "    # first get tails upstream and downstream at min length\n",
    "    upstream_length = (min_length - 3) // 2 + offset\n",
    "    downstream_length = min_length - 3 - upstream_length - offset\n",
    "    \n",
    "    def seq(up_length, down_length):\n",
    "        i_start = extended_start - up_length\n",
    "        assert i_start >= 0, \"insufficient downstream sequence\"\n",
    "        i_end = extended_start + 3 + down_length\n",
    "        assert i_end <= len(extended_gene), \"insufficient upstream sequence\"\n",
    "        return (\n",
    "            extended_gene[i_start: extended_start]\n",
    "            + mutant_codon\n",
    "            + extended_gene[extended_start + 3: i_end]\n",
    "        )\n",
    "    \n",
    "    s = seq(upstream_length, downstream_length)\n",
    "    down_first = True\n",
    "    while (\n",
    "        (MeltingTemp.Tm_NN(s, strict=False) < min_tm)\n",
    "        and (upstream_length + downstream_length + 3) <= max_length\n",
    "    ):\n",
    "        if down_first:\n",
    "            downstream_length += 1\n",
    "        else:\n",
    "            upstream_length += 1\n",
    "        down_first = not down_first\n",
    "        s = seq(upstream_length, downstream_length)\n",
    "    return s.replace(\"-\", \"\")"
   ]
  },
  {
   "cell_type": "markdown",
   "id": "5f3712c7-37fd-4a57-a022-d94ead1e407f",
   "metadata": {
    "execution": {
     "iopub.execute_input": "2023-03-14T21:38:11.411385Z",
     "iopub.status.busy": "2023-03-14T21:38:11.410778Z",
     "iopub.status.idle": "2023-03-14T21:38:11.417173Z",
     "shell.execute_reply": "2023-03-14T21:38:11.416121Z",
     "shell.execute_reply.started": "2023-03-14T21:38:11.411336Z"
    },
    "tags": []
   },
   "source": [
    "Design the targeted primes at each offset:"
   ]
  },
  {
   "cell_type": "code",
   "execution_count": null,
   "id": "cb0120c1-5b04-44bd-8c38-c8220f44fd64",
   "metadata": {
    "tags": []
   },
   "outputs": [],
   "source": [
    "for offset in targeted_mutations_offsets:\n",
    "    \n",
    "    targeted_mutations[\n",
    "        f\"primers_forward_offset{offset}\"\n",
    "    ] = targeted_mutations.apply(\n",
    "        lambda row: design_primer(\n",
    "            residue=row[\"sequential_site\"],\n",
    "            mutant_codon=aa_to_codon[row[\"mutant_aa\"]],\n",
    "            min_tm=primer_min_tm,\n",
    "            min_length=primer_min_length,\n",
    "            max_length=primer_max_length,\n",
    "            offset=offset,\n",
    "            extended_gene=extended_gene,\n",
    "            gene_start=gene_start,\n",
    "        ),\n",
    "        axis=1,\n",
    "    )\n",
    "    \n",
    "    targeted_mutations[\n",
    "        f\"primers_reverse_offset{offset}\"\n",
    "    ] = targeted_mutations.apply(\n",
    "        lambda row: design_primer(\n",
    "            residue=row[\"sequential_site\"],\n",
    "            mutant_codon=aa_to_codon[row[\"mutant_aa\"]],\n",
    "            min_tm=primer_min_tm,\n",
    "            min_length=primer_min_length,\n",
    "            max_length=primer_max_length,\n",
    "            offset=-offset,\n",
    "            extended_gene=extended_gene,\n",
    "            gene_start=gene_start,\n",
    "        ),\n",
    "        axis=1,\n",
    "    ).map(lambda s: str(Bio.Seq.Seq(s).reverse_complement()))\n",
    "    \n",
    "print(f\"Writing {config['targeted_mutations_w_oligos']}\")\n",
    "targeted_mutations.to_csv(config[\"targeted_mutations_w_oligos\"], index=False)"
   ]
  },
  {
   "cell_type": "markdown",
   "id": "b8d76a5e-d77c-465d-aca5-77238f3d06ff",
   "metadata": {
    "execution": {
     "iopub.execute_input": "2023-03-14T22:04:08.837678Z",
     "iopub.status.busy": "2023-03-14T22:04:08.837369Z",
     "iopub.status.idle": "2023-03-14T22:04:08.861356Z",
     "shell.execute_reply": "2023-03-14T22:04:08.860390Z",
     "shell.execute_reply.started": "2023-03-14T22:04:08.837649Z"
    },
    "tags": []
   },
   "source": [
    "Design saturated primers at each offset:"
   ]
  },
  {
   "cell_type": "code",
   "execution_count": null,
   "id": "14c7763e-4bc9-4b75-b65e-9025bd34a9f5",
   "metadata": {
    "tags": []
   },
   "outputs": [],
   "source": [
    "for offset in saturated_sites_offsets:\n",
    "    \n",
    "    saturated_sites[\n",
    "        f\"primers_forward_offset{offset}\"\n",
    "    ] = saturated_sites.apply(\n",
    "        lambda row: [\n",
    "            design_primer(\n",
    "                residue=row[\"sequential_site\"],\n",
    "                mutant_codon=\"NNC\",\n",
    "                min_tm=primer_min_tm,\n",
    "                min_length=primer_min_length,\n",
    "                max_length=primer_max_length,\n",
    "                offset=offset,\n",
    "                extended_gene=extended_gene,\n",
    "                gene_start=gene_start,\n",
    "            ),\n",
    "            design_primer(\n",
    "                residue=row[\"sequential_site\"],\n",
    "                mutant_codon=\"NNG\",\n",
    "                min_tm=primer_min_tm,\n",
    "                min_length=primer_min_length,\n",
    "                max_length=primer_max_length,\n",
    "                offset=offset,\n",
    "                extended_gene=extended_gene,\n",
    "                gene_start=gene_start,\n",
    "            ),\n",
    "        ],\n",
    "        axis=1,\n",
    "    )\n",
    "    \n",
    "    saturated_sites[\n",
    "        f\"primers_reverse_offset{offset}\"\n",
    "    ] = saturated_sites.apply(\n",
    "        lambda row: [\n",
    "            str(Bio.Seq.Seq(design_primer(\n",
    "                residue=row[\"sequential_site\"],\n",
    "                mutant_codon=\"NNC\",\n",
    "                min_tm=primer_min_tm,\n",
    "                min_length=primer_min_length,\n",
    "                max_length=primer_max_length,\n",
    "                offset=offset,\n",
    "                extended_gene=extended_gene,\n",
    "                gene_start=gene_start,\n",
    "            )).reverse_complement()),\n",
    "            str(Bio.Seq.Seq(design_primer(\n",
    "                residue=row[\"sequential_site\"],\n",
    "                mutant_codon=\"NNG\",\n",
    "                min_tm=primer_min_tm,\n",
    "                min_length=primer_min_length,\n",
    "                max_length=primer_max_length,\n",
    "                offset=offset,\n",
    "                extended_gene=extended_gene,\n",
    "                gene_start=gene_start,\n",
    "            )).reverse_complement())\n",
    "        ],\n",
    "        axis=1,\n",
    "    )\n",
    "    \n",
    "print(f\"Writing {config['saturated_sites_w_oligos']}\")\n",
    "saturated_sites.to_csv(config[\"saturated_sites_w_oligos\"], index=False)"
   ]
  },
  {
   "cell_type": "markdown",
   "id": "3c156542-fc63-4713-b386-9238bc6a002f",
   "metadata": {},
   "source": [
    "Make [oPool](https://www.idtdna.com/pages/products/custom-dna-rna/dna-oligos/custom-dna-oligos/opools-oligo-pools) order sheets:"
   ]
  },
  {
   "cell_type": "code",
   "execution_count": null,
   "id": "712e1082-5c3a-42dd-8e51-275b60d3a158",
   "metadata": {
    "tags": []
   },
   "outputs": [],
   "source": [
    "prefix = config[\"opool_prefix\"]\n",
    "\n",
    "dfs = []\n",
    "pool_stats = []\n",
    "for df, name, explode in [\n",
    "    (targeted_mutations, \"targeted_mutations\", False),\n",
    "    (saturated_sites, \"saturated_sites\", True),\n",
    "]:\n",
    "    for orientation in [\"forward\", \"reverse\"]:\n",
    "        pool_name = f\"{prefix}{name}_{orientation}_oPool\"\n",
    "        cols = [c for c in df.columns if c.startswith(f\"primers_{orientation}\")]\n",
    "        primers = []\n",
    "        for c in cols:\n",
    "            if explode:\n",
    "                primers += df.explode(c)[c].tolist()\n",
    "            else:\n",
    "                primers += df[c].tolist()\n",
    "        dfs.append(pd.DataFrame({\"Pool name\": pool_name, \"Sequence\": primers}))\n",
    "        n_unique = 0\n",
    "        for p in primers:\n",
    "            assert re.fullmatch(\"[ACGTNacgtn]+\", p), p\n",
    "            n_unique += 4**(p.count(\"N\") + p.count(\"n\"))\n",
    "        pool_stats.append(\n",
    "            (\n",
    "                pool_name,\n",
    "                name,\n",
    "                len(primers),\n",
    "                n_unique,\n",
    "            )\n",
    "        )\n",
    "        \n",
    "opools = pd.concat(dfs)\n",
    "\n",
    "opools.to_csv(config[\"opools\"], index=False)"
   ]
  },
  {
   "cell_type": "markdown",
   "id": "902f58de-0397-4351-9bec-5a3ff3cff713",
   "metadata": {},
   "source": [
    "Get overall pool statistics:"
   ]
  },
  {
   "cell_type": "code",
   "execution_count": null,
   "id": "69819fd7-0452-4b52-a66e-a797fcae856c",
   "metadata": {
    "tags": []
   },
   "outputs": [],
   "source": [
    "pool_stats = (\n",
    "    pd.DataFrame(pool_stats, columns=[\"Pool name\", \"pool type\", \"n_oligos\", \"unique_sequences\"])\n",
    ")\n",
    "\n",
    "pool_stats.to_csv(config[\"opool_stats\"], index=False)\n",
    "\n",
    "pool_stats"
   ]
  }
 ],
 "metadata": {
  "kernelspec": {
   "display_name": "Python 3 (ipykernel)",
   "language": "python",
   "name": "python3"
  },
  "language_info": {
   "codemirror_mode": {
    "name": "ipython",
    "version": 3
   },
   "file_extension": ".py",
   "mimetype": "text/x-python",
   "name": "python",
   "nbconvert_exporter": "python",
   "pygments_lexer": "ipython3",
   "version": "3.10.8"
  }
 },
 "nbformat": 4,
 "nbformat_minor": 5
}
