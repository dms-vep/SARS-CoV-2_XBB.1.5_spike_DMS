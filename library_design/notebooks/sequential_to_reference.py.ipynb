{
 "cells": [
  {
   "cell_type": "markdown",
   "id": "480a542f-3407-41a2-bacd-d9cf6ae178e3",
   "metadata": {},
   "source": [
    "# Mapping of sequential to reference site numbers"
   ]
  },
  {
   "cell_type": "code",
   "execution_count": null,
   "id": "43142925-0856-423c-a9fc-614625b227d7",
   "metadata": {
    "tags": []
   },
   "outputs": [],
   "source": [
    "import io\n",
    "import os\n",
    "import re\n",
    "import subprocess\n",
    "import tempfile\n",
    "\n",
    "import Bio.SeqIO\n",
    "\n",
    "import pandas as pd\n",
    "\n",
    "import yaml"
   ]
  },
  {
   "cell_type": "code",
   "execution_count": null,
   "id": "c1d93e93-01b4-42f8-8edd-f4abd808bc86",
   "metadata": {
    "tags": []
   },
   "outputs": [],
   "source": [
    "if not os.path.isfile(\"config.yaml\"):\n",
    "    os.chdir(\"../\")  # if running interactively\n",
    "    \n",
    "with open(\"config.yaml\") as f:\n",
    "    config = yaml.safe_load(f)"
   ]
  },
  {
   "cell_type": "code",
   "execution_count": null,
   "id": "fb5f5c38-48ff-478c-8bc3-155480bc5789",
   "metadata": {
    "tags": []
   },
   "outputs": [],
   "source": [
    "ref = str(Bio.SeqIO.read(config[\"reference_gene\"], \"fasta\").seq.translate(cds=True))\n",
    "\n",
    "# get upper case portion\n",
    "seq = Bio.SeqIO.read(config[\"extended_gene\"], \"fasta\").seq\n",
    "m = re.fullmatch(\"[acgt]*(?P<gene>[ACGT]+)[acgt]*\", str(seq))\n",
    "assert m, \"not single upper case gene\"\n",
    "seq = str(seq[m.start(\"gene\"): m.end(\"gene\")].translate())\n",
    "if \"*\" in seq[: -1]:\n",
    "    raise ValueError(f\"premature stop codons in {seq=}\")"
   ]
  },
  {
   "cell_type": "code",
   "execution_count": null,
   "id": "dc71cb32-8ce5-45bd-afc5-a4a52b1f22a3",
   "metadata": {
    "tags": []
   },
   "outputs": [],
   "source": [
    "with tempfile.NamedTemporaryFile(\"w\") as f:\n",
    "    f.write(f\">sequence\\n{seq}\\n>reference\\n{ref}\\n\")\n",
    "    f.flush()\n",
    "    res = subprocess.run([\"mafft\", f.name], capture_output=True)\n",
    "    \n",
    "alignment = {\n",
    "    s.id: str(s.seq)\n",
    "    for s in Bio.SeqIO.parse(io.StringIO(res.stdout.decode(\"utf-8\")), \"fasta\")\n",
    "}"
   ]
  },
  {
   "cell_type": "code",
   "execution_count": null,
   "id": "7ca931b4-22cc-4f6b-89e3-e3d5db4e4a56",
   "metadata": {
    "tags": []
   },
   "outputs": [],
   "source": [
    "assert \"-\" not in alignment[\"reference\"], \"cannot handle insertions in sequence\"\n",
    "\n",
    "records = []\n",
    "site = ref_site = 0\n",
    "for aa, ref_aa in zip(alignment[\"sequence\"], alignment[\"reference\"]):\n",
    "    assert ref_aa != \"-\"\n",
    "    if aa == \"-\":\n",
    "        ref_site += 1\n",
    "    else:\n",
    "        site += 1\n",
    "        ref_site += 1\n",
    "        records.append((site, ref_site, aa, ref_aa))\n",
    "        \n",
    "df = pd.DataFrame(\n",
    "    records, columns=[\"sequential_site\", \"reference_site\", \"aa\", \"reference_aa\"],\n",
    ")\n",
    "\n",
    "print(\"Here are mutated sites:\")\n",
    "display(df.query(\"aa != reference_aa\").reset_index(drop=True))\n",
    "\n",
    "df.to_csv(config[\"sequential_to_reference\"], index=False)"
   ]
  },
  {
   "cell_type": "code",
   "execution_count": null,
   "id": "a0e16a64-8a8a-4fc3-879b-bb3deee62bd3",
   "metadata": {},
   "outputs": [],
   "source": []
  }
 ],
 "metadata": {
  "kernelspec": {
   "display_name": "Python 3 (ipykernel)",
   "language": "python",
   "name": "python3"
  },
  "language_info": {
   "codemirror_mode": {
    "name": "ipython",
    "version": 3
   },
   "file_extension": ".py",
   "mimetype": "text/x-python",
   "name": "python",
   "nbconvert_exporter": "python",
   "pygments_lexer": "ipython3",
   "version": "3.10.8"
  }
 },
 "nbformat": 4,
 "nbformat_minor": 5
}
