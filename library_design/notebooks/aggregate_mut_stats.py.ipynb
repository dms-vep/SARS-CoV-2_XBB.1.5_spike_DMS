{
 "cells": [
  {
   "cell_type": "markdown",
   "id": "cac73212-38b4-493a-bd72-212a02c04174",
   "metadata": {},
   "source": [
    "# Aggregate the mutation counts from GISAID and UShER"
   ]
  },
  {
   "cell_type": "code",
   "execution_count": null,
   "id": "b96c9d27-b825-4dab-b313-aaf0aa4a8192",
   "metadata": {
    "tags": []
   },
   "outputs": [],
   "source": [
    "import os\n",
    "\n",
    "import pandas as pd\n",
    "\n",
    "import yaml"
   ]
  },
  {
   "cell_type": "code",
   "execution_count": null,
   "id": "bcb68893-900d-488d-a25b-abcb256aff53",
   "metadata": {
    "tags": []
   },
   "outputs": [],
   "source": [
    "if not os.path.isfile(\"config.yaml\"):\n",
    "    os.chdir(\"../\")  # if running interactively from subdir\n",
    "\n",
    "with open(\"config.yaml\") as f:\n",
    "    config = yaml.safe_load(f)"
   ]
  },
  {
   "cell_type": "code",
   "execution_count": null,
   "id": "547a78e0-3d62-46f8-80ee-2250544369d4",
   "metadata": {
    "tags": []
   },
   "outputs": [],
   "source": [
    "sequential_to_reference = pd.read_csv(config[\"sequential_to_reference\"])\n",
    "alignment_counts = pd.read_csv(config[\"alignment_counts\"])\n",
    "usher_mut_counts = pd.read_csv(config[\"usher_mut_counts\"])\n",
    "usher_recent_mut_counts = pd.read_csv(config[\"usher_recent_mut_counts\"])"
   ]
  },
  {
   "cell_type": "code",
   "execution_count": null,
   "id": "d3497848-42c1-4977-afb8-2f382ca2c36b",
   "metadata": {
    "tags": []
   },
   "outputs": [],
   "source": [
    "aas = \"ACDEFGHIKLMNPQRSTVWY*-\"\n",
    "\n",
    "df = (\n",
    "    alignment_counts\n",
    "    .rename(\n",
    "        columns={\n",
    "            \"site\": \"reference_site\",\n",
    "            \"mutant\": \"mutant_aa\",\n",
    "            \"count\": \"GISAID_count\",\n",
    "        }\n",
    "    )\n",
    "    .drop(columns=\"wildtype\")\n",
    "    .merge(\n",
    "        usher_mut_counts\n",
    "        .rename(columns={\"site\": \"reference_site\", \"count\": \"UShER_count\"}),\n",
    "        how=\"outer\",\n",
    "        on=[\"reference_site\", \"mutant_aa\"]\n",
    "    )\n",
    "    .merge(\n",
    "        usher_recent_mut_counts\n",
    "        .rename(columns={\"site\": \"reference_site\", \"count\": \"UShER_recent_count\"}),\n",
    "        how=\"outer\",\n",
    "        on=[\"reference_site\", \"mutant_aa\"],\n",
    "    )\n",
    "    .merge(\n",
    "        sequential_to_reference.rename(columns={\"aa\": \"wildtype_aa\"}),\n",
    "        on=\"reference_site\",\n",
    "        validate=\"many_to_one\",\n",
    "    )\n",
    "    [[\n",
    "        \"sequential_site\",\n",
    "        \"reference_site\",\n",
    "        \"wildtype_aa\",\n",
    "        \"reference_aa\",\n",
    "        \"mutant_aa\",\n",
    "        \"GISAID_count\",\n",
    "        \"UShER_count\",\n",
    "        \"UShER_recent_count\",\n",
    "    ]]\n",
    "    .assign(mutated_from_reference=lambda x: x[\"wildtype_aa\"] != x[\"reference_aa\"])\n",
    ")\n",
    "\n",
    "assert (\n",
    "    df\n",
    "    .query(\"mutated_from_reference\")\n",
    "    .assign(reference_as_mutant=lambda x: x[\"reference_aa\"] == x[\"mutant_aa\"])\n",
    "    .groupby(\"reference_site\")\n",
    "    .aggregate({\"reference_as_mutant\": \"any\"})\n",
    "    .all()\n",
    "    .all()\n",
    "), \"some mutations from reference not in data frame as they have no counts\"\n",
    "\n",
    "# expand to include all mutations, even those with zero counts\n",
    "cols_to_tile = [\"sequential_site\", \"reference_site\", \"wildtype_aa\", \"reference_aa\"]\n",
    "df = (\n",
    "    df\n",
    "    .merge(\n",
    "        pd.DataFrame(\n",
    "            [\n",
    "                (*tup, aa)\n",
    "                for tup in df[cols_to_tile].drop_duplicates().itertuples(index=False)\n",
    "                for aa in aas\n",
    "            ],\n",
    "            columns=[*cols_to_tile, \"mutant_aa\"],\n",
    "        ),\n",
    "        how=\"outer\",\n",
    "    )\n",
    "    .assign(\n",
    "        GISAID_count=lambda x: x[\"GISAID_count\"].fillna(0).astype(int),\n",
    "        UShER_count=lambda x: x[\"UShER_count\"].fillna(0).astype(int),\n",
    "        UShER_recent_count=lambda x: x[\"UShER_recent_count\"].fillna(0).astype(int),\n",
    "        mutated_from_reference=lambda x: x[\"wildtype_aa\"] != x[\"reference_aa\"],\n",
    "    )\n",
    "    .sort_values([\"sequential_site\", \"mutant_aa\"])\n",
    "    .reset_index(drop=True)\n",
    ")\n",
    "    \n",
    "assert df.notnull().all().all()\n",
    "\n",
    "df.to_csv(config[\"mutation_stats\"], index=False)\n",
    "\n",
    "df"
   ]
  },
  {
   "cell_type": "code",
   "execution_count": null,
   "id": "d1d2c3c5-a10b-465f-abd8-1dcc8fc959e9",
   "metadata": {},
   "outputs": [],
   "source": []
  }
 ],
 "metadata": {
  "kernelspec": {
   "display_name": "Python 3 (ipykernel)",
   "language": "python",
   "name": "python3"
  },
  "language_info": {
   "codemirror_mode": {
    "name": "ipython",
    "version": 3
   },
   "file_extension": ".py",
   "mimetype": "text/x-python",
   "name": "python",
   "nbconvert_exporter": "python",
   "pygments_lexer": "ipython3",
   "version": "3.10.8"
  }
 },
 "nbformat": 4,
 "nbformat_minor": 5
}
